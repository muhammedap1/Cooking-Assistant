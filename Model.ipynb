{
 "cells": [
  {
   "cell_type": "markdown",
   "id": "9bf908f7",
   "metadata": {},
   "source": [
    "## Importing necessary Tools"
   ]
  },
  {
   "cell_type": "code",
   "execution_count": 16,
   "id": "7f5eaa14",
   "metadata": {},
   "outputs": [],
   "source": [
    "import pandas as pd\n",
    "import matplotlib.pyplot as plt\n",
    "from sklearn import preprocessing\n",
    "import numpy as np\n",
    "from sklearn.preprocessing import normalize\n",
    "from tensorflow.keras.preprocessing import image\n",
    "import ast"
   ]
  },
  {
   "cell_type": "markdown",
   "id": "aec5a7ef",
   "metadata": {},
   "source": [
    "## Importing the Dataset"
   ]
  },
  {
   "cell_type": "code",
   "execution_count": 2,
   "id": "eecc9d03",
   "metadata": {},
   "outputs": [],
   "source": [
    "data=pd.read_csv('dataset/raw-data_recipe.csv')"
   ]
  },
  {
   "cell_type": "code",
   "execution_count": 3,
   "id": "ac3c0add",
   "metadata": {},
   "outputs": [
    {
     "data": {
      "text/html": [
       "<div>\n",
       "<style scoped>\n",
       "    .dataframe tbody tr th:only-of-type {\n",
       "        vertical-align: middle;\n",
       "    }\n",
       "\n",
       "    .dataframe tbody tr th {\n",
       "        vertical-align: top;\n",
       "    }\n",
       "\n",
       "    .dataframe thead th {\n",
       "        text-align: right;\n",
       "    }\n",
       "</style>\n",
       "<table border=\"1\" class=\"dataframe\">\n",
       "  <thead>\n",
       "    <tr style=\"text-align: right;\">\n",
       "      <th></th>\n",
       "      <th>recipe_id</th>\n",
       "      <th>recipe_name</th>\n",
       "      <th>aver_rate</th>\n",
       "      <th>image_url</th>\n",
       "      <th>review_nums</th>\n",
       "      <th>ingredients</th>\n",
       "      <th>cooking_directions</th>\n",
       "      <th>nutritions</th>\n",
       "      <th>reviews</th>\n",
       "    </tr>\n",
       "  </thead>\n",
       "  <tbody>\n",
       "    <tr>\n",
       "      <th>0</th>\n",
       "      <td>222388</td>\n",
       "      <td>Homemade Bacon</td>\n",
       "      <td>5.000000</td>\n",
       "      <td>https://images.media-allrecipes.com/userphotos...</td>\n",
       "      <td>3</td>\n",
       "      <td>pork belly^smoked paprika^kosher salt^ground b...</td>\n",
       "      <td>{'directions': u'Prep\\n5 m\\nCook\\n2 h 45 m\\nRe...</td>\n",
       "      <td>{u'niacin': {u'hasCompleteData': False, u'name...</td>\n",
       "      <td>{8542392: {'rating': 5, 'followersCount': 11, ...</td>\n",
       "    </tr>\n",
       "    <tr>\n",
       "      <th>1</th>\n",
       "      <td>240488</td>\n",
       "      <td>Pork Loin, Apples, and Sauerkraut</td>\n",
       "      <td>4.764706</td>\n",
       "      <td>https://images.media-allrecipes.com/userphotos...</td>\n",
       "      <td>29</td>\n",
       "      <td>sauerkraut drained^Granny Smith apples sliced^...</td>\n",
       "      <td>{'directions': u'Prep\\n15 m\\nCook\\n2 h 30 m\\nR...</td>\n",
       "      <td>{u'niacin': {u'hasCompleteData': False, u'name...</td>\n",
       "      <td>{3574785: {'rating': 5, 'followersCount': 0, '...</td>\n",
       "    </tr>\n",
       "    <tr>\n",
       "      <th>2</th>\n",
       "      <td>218939</td>\n",
       "      <td>Foolproof Rosemary Chicken Wings</td>\n",
       "      <td>4.571429</td>\n",
       "      <td>https://images.media-allrecipes.com/userphotos...</td>\n",
       "      <td>12</td>\n",
       "      <td>chicken wings^sprigs rosemary^head garlic^oliv...</td>\n",
       "      <td>{'directions': u\"Prep\\n20 m\\nCook\\n40 m\\nReady...</td>\n",
       "      <td>{u'niacin': {u'hasCompleteData': True, u'name'...</td>\n",
       "      <td>{13774946: {'rating': 5, 'followersCount': 0, ...</td>\n",
       "    </tr>\n",
       "    <tr>\n",
       "      <th>3</th>\n",
       "      <td>87211</td>\n",
       "      <td>Chicken Pesto Paninis</td>\n",
       "      <td>4.625000</td>\n",
       "      <td>https://images.media-allrecipes.com/userphotos...</td>\n",
       "      <td>163</td>\n",
       "      <td>focaccia bread quartered^prepared basil pesto^...</td>\n",
       "      <td>{'directions': u'Prep\\n15 m\\nCook\\n5 m\\nReady ...</td>\n",
       "      <td>{u'niacin': {u'hasCompleteData': True, u'name'...</td>\n",
       "      <td>{1563136: {'rating': 5, 'followersCount': 0, '...</td>\n",
       "    </tr>\n",
       "    <tr>\n",
       "      <th>4</th>\n",
       "      <td>245714</td>\n",
       "      <td>Potato Bacon Pizza</td>\n",
       "      <td>4.500000</td>\n",
       "      <td>https://images.media-allrecipes.com/userphotos...</td>\n",
       "      <td>2</td>\n",
       "      <td>red potatoes^strips bacon^Sauce:^heavy whippin...</td>\n",
       "      <td>{'directions': u'Prep\\n20 m\\nCook\\n45 m\\nReady...</td>\n",
       "      <td>{u'niacin': {u'hasCompleteData': True, u'name'...</td>\n",
       "      <td>{2945555: {'rating': 5, 'followersCount': 6690...</td>\n",
       "    </tr>\n",
       "  </tbody>\n",
       "</table>\n",
       "</div>"
      ],
      "text/plain": [
       "   recipe_id  ...                                            reviews\n",
       "0     222388  ...  {8542392: {'rating': 5, 'followersCount': 11, ...\n",
       "1     240488  ...  {3574785: {'rating': 5, 'followersCount': 0, '...\n",
       "2     218939  ...  {13774946: {'rating': 5, 'followersCount': 0, ...\n",
       "3      87211  ...  {1563136: {'rating': 5, 'followersCount': 0, '...\n",
       "4     245714  ...  {2945555: {'rating': 5, 'followersCount': 6690...\n",
       "\n",
       "[5 rows x 9 columns]"
      ]
     },
     "execution_count": 3,
     "metadata": {},
     "output_type": "execute_result"
    }
   ],
   "source": [
    "data.head()"
   ]
  },
  {
   "cell_type": "code",
   "execution_count": 4,
   "id": "de54e1dc",
   "metadata": {},
   "outputs": [
    {
     "data": {
      "text/plain": [
       "(49698, 9)"
      ]
     },
     "execution_count": 4,
     "metadata": {},
     "output_type": "execute_result"
    }
   ],
   "source": [
    "data.shape"
   ]
  },
  {
   "cell_type": "code",
   "execution_count": 5,
   "id": "12596ec2",
   "metadata": {},
   "outputs": [
    {
     "data": {
      "text/plain": [
       "recipe_id             0\n",
       "recipe_name           0\n",
       "aver_rate             0\n",
       "image_url             0\n",
       "review_nums           0\n",
       "ingredients           0\n",
       "cooking_directions    0\n",
       "nutritions            0\n",
       "reviews               0\n",
       "dtype: int64"
      ]
     },
     "execution_count": 5,
     "metadata": {},
     "output_type": "execute_result"
    }
   ],
   "source": [
    "data.isnull().sum()"
   ]
  },
  {
   "cell_type": "code",
   "execution_count": 6,
   "id": "0643674c",
   "metadata": {},
   "outputs": [
    {
     "data": {
      "text/plain": [
       "\"{'directions': u'Prep\\\\n5 m\\\\nCook\\\\n2 h 45 m\\\\nReady In\\\\n11 h 50 m\\\\nPreheat oven to 200 degrees F (95 degrees C).\\\\nSeason pork belly with paprika, salt, and pepper. Tightly wrap pork twice in heavy-duty aluminum foil. Place on a baking sheet and bake in the preheated oven for 2 1/2 hours. Turn off the oven; let pork rest in the oven for 1 hour. Remove meat from oven, leaving it wrapped in aluminum foil, and refrigerate at least 8 hours or overnight.\\\\nRemove pork from foil and slice across the grain in 1/4-inch thick slices. Working in batches, cook pork in a non-stick skillet over medium heat until golden and crisped, 6 to 8 minutes per slice.'}\""
      ]
     },
     "execution_count": 6,
     "metadata": {},
     "output_type": "execute_result"
    }
   ],
   "source": [
    "data['cooking_directions'][0]"
   ]
  },
  {
   "cell_type": "markdown",
   "id": "04d3daa9",
   "metadata": {},
   "source": [
    "## Preprocessing the Data"
   ]
  },
  {
   "cell_type": "markdown",
   "id": "ffdc16e6",
   "metadata": {},
   "source": [
    "###### we don't have any use with the cooking_directions and reviews column in the dataset ,sot droping it will the best option"
   ]
  },
  {
   "cell_type": "code",
   "execution_count": 7,
   "id": "748e5ee7",
   "metadata": {},
   "outputs": [
    {
     "data": {
      "text/html": [
       "<div>\n",
       "<style scoped>\n",
       "    .dataframe tbody tr th:only-of-type {\n",
       "        vertical-align: middle;\n",
       "    }\n",
       "\n",
       "    .dataframe tbody tr th {\n",
       "        vertical-align: top;\n",
       "    }\n",
       "\n",
       "    .dataframe thead th {\n",
       "        text-align: right;\n",
       "    }\n",
       "</style>\n",
       "<table border=\"1\" class=\"dataframe\">\n",
       "  <thead>\n",
       "    <tr style=\"text-align: right;\">\n",
       "      <th></th>\n",
       "      <th>recipe_id</th>\n",
       "      <th>recipe_name</th>\n",
       "      <th>aver_rate</th>\n",
       "      <th>image_url</th>\n",
       "      <th>review_nums</th>\n",
       "      <th>ingredients</th>\n",
       "      <th>nutritions</th>\n",
       "    </tr>\n",
       "  </thead>\n",
       "  <tbody>\n",
       "    <tr>\n",
       "      <th>0</th>\n",
       "      <td>222388</td>\n",
       "      <td>Homemade Bacon</td>\n",
       "      <td>5.000000</td>\n",
       "      <td>https://images.media-allrecipes.com/userphotos...</td>\n",
       "      <td>3</td>\n",
       "      <td>pork belly^smoked paprika^kosher salt^ground b...</td>\n",
       "      <td>{u'niacin': {u'hasCompleteData': False, u'name...</td>\n",
       "    </tr>\n",
       "    <tr>\n",
       "      <th>1</th>\n",
       "      <td>240488</td>\n",
       "      <td>Pork Loin, Apples, and Sauerkraut</td>\n",
       "      <td>4.764706</td>\n",
       "      <td>https://images.media-allrecipes.com/userphotos...</td>\n",
       "      <td>29</td>\n",
       "      <td>sauerkraut drained^Granny Smith apples sliced^...</td>\n",
       "      <td>{u'niacin': {u'hasCompleteData': False, u'name...</td>\n",
       "    </tr>\n",
       "    <tr>\n",
       "      <th>2</th>\n",
       "      <td>218939</td>\n",
       "      <td>Foolproof Rosemary Chicken Wings</td>\n",
       "      <td>4.571429</td>\n",
       "      <td>https://images.media-allrecipes.com/userphotos...</td>\n",
       "      <td>12</td>\n",
       "      <td>chicken wings^sprigs rosemary^head garlic^oliv...</td>\n",
       "      <td>{u'niacin': {u'hasCompleteData': True, u'name'...</td>\n",
       "    </tr>\n",
       "    <tr>\n",
       "      <th>3</th>\n",
       "      <td>87211</td>\n",
       "      <td>Chicken Pesto Paninis</td>\n",
       "      <td>4.625000</td>\n",
       "      <td>https://images.media-allrecipes.com/userphotos...</td>\n",
       "      <td>163</td>\n",
       "      <td>focaccia bread quartered^prepared basil pesto^...</td>\n",
       "      <td>{u'niacin': {u'hasCompleteData': True, u'name'...</td>\n",
       "    </tr>\n",
       "    <tr>\n",
       "      <th>4</th>\n",
       "      <td>245714</td>\n",
       "      <td>Potato Bacon Pizza</td>\n",
       "      <td>4.500000</td>\n",
       "      <td>https://images.media-allrecipes.com/userphotos...</td>\n",
       "      <td>2</td>\n",
       "      <td>red potatoes^strips bacon^Sauce:^heavy whippin...</td>\n",
       "      <td>{u'niacin': {u'hasCompleteData': True, u'name'...</td>\n",
       "    </tr>\n",
       "  </tbody>\n",
       "</table>\n",
       "</div>"
      ],
      "text/plain": [
       "   recipe_id  ...                                         nutritions\n",
       "0     222388  ...  {u'niacin': {u'hasCompleteData': False, u'name...\n",
       "1     240488  ...  {u'niacin': {u'hasCompleteData': False, u'name...\n",
       "2     218939  ...  {u'niacin': {u'hasCompleteData': True, u'name'...\n",
       "3      87211  ...  {u'niacin': {u'hasCompleteData': True, u'name'...\n",
       "4     245714  ...  {u'niacin': {u'hasCompleteData': True, u'name'...\n",
       "\n",
       "[5 rows x 7 columns]"
      ]
     },
     "execution_count": 7,
     "metadata": {},
     "output_type": "execute_result"
    }
   ],
   "source": [
    "data=data.drop(columns=['cooking_directions','reviews'])\n",
    "data.head()"
   ]
  },
  {
   "cell_type": "markdown",
   "id": "ccd6bb58",
   "metadata": {},
   "source": [
    "###### Now we want to make the average_rating to a 2 decimal number.\n",
    "###### For that we can create a function"
   ]
  },
  {
   "cell_type": "code",
   "execution_count": 8,
   "id": "877f74ac",
   "metadata": {},
   "outputs": [],
   "source": [
    "def avg_rating(col):\n",
    "    return f'{col:.2f}'"
   ]
  },
  {
   "cell_type": "markdown",
   "id": "2234f6b1",
   "metadata": {},
   "source": [
    "###### Apply the function to the aver_rate column in the dataset"
   ]
  },
  {
   "cell_type": "code",
   "execution_count": 9,
   "id": "ac5b10ef",
   "metadata": {},
   "outputs": [
    {
     "data": {
      "text/html": [
       "<div>\n",
       "<style scoped>\n",
       "    .dataframe tbody tr th:only-of-type {\n",
       "        vertical-align: middle;\n",
       "    }\n",
       "\n",
       "    .dataframe tbody tr th {\n",
       "        vertical-align: top;\n",
       "    }\n",
       "\n",
       "    .dataframe thead th {\n",
       "        text-align: right;\n",
       "    }\n",
       "</style>\n",
       "<table border=\"1\" class=\"dataframe\">\n",
       "  <thead>\n",
       "    <tr style=\"text-align: right;\">\n",
       "      <th></th>\n",
       "      <th>recipe_id</th>\n",
       "      <th>recipe_name</th>\n",
       "      <th>aver_rate</th>\n",
       "      <th>image_url</th>\n",
       "      <th>review_nums</th>\n",
       "      <th>ingredients</th>\n",
       "      <th>nutritions</th>\n",
       "    </tr>\n",
       "  </thead>\n",
       "  <tbody>\n",
       "    <tr>\n",
       "      <th>0</th>\n",
       "      <td>222388</td>\n",
       "      <td>Homemade Bacon</td>\n",
       "      <td>5.00</td>\n",
       "      <td>https://images.media-allrecipes.com/userphotos...</td>\n",
       "      <td>3</td>\n",
       "      <td>pork belly^smoked paprika^kosher salt^ground b...</td>\n",
       "      <td>{u'niacin': {u'hasCompleteData': False, u'name...</td>\n",
       "    </tr>\n",
       "    <tr>\n",
       "      <th>1</th>\n",
       "      <td>240488</td>\n",
       "      <td>Pork Loin, Apples, and Sauerkraut</td>\n",
       "      <td>4.76</td>\n",
       "      <td>https://images.media-allrecipes.com/userphotos...</td>\n",
       "      <td>29</td>\n",
       "      <td>sauerkraut drained^Granny Smith apples sliced^...</td>\n",
       "      <td>{u'niacin': {u'hasCompleteData': False, u'name...</td>\n",
       "    </tr>\n",
       "    <tr>\n",
       "      <th>2</th>\n",
       "      <td>218939</td>\n",
       "      <td>Foolproof Rosemary Chicken Wings</td>\n",
       "      <td>4.57</td>\n",
       "      <td>https://images.media-allrecipes.com/userphotos...</td>\n",
       "      <td>12</td>\n",
       "      <td>chicken wings^sprigs rosemary^head garlic^oliv...</td>\n",
       "      <td>{u'niacin': {u'hasCompleteData': True, u'name'...</td>\n",
       "    </tr>\n",
       "    <tr>\n",
       "      <th>3</th>\n",
       "      <td>87211</td>\n",
       "      <td>Chicken Pesto Paninis</td>\n",
       "      <td>4.62</td>\n",
       "      <td>https://images.media-allrecipes.com/userphotos...</td>\n",
       "      <td>163</td>\n",
       "      <td>focaccia bread quartered^prepared basil pesto^...</td>\n",
       "      <td>{u'niacin': {u'hasCompleteData': True, u'name'...</td>\n",
       "    </tr>\n",
       "    <tr>\n",
       "      <th>4</th>\n",
       "      <td>245714</td>\n",
       "      <td>Potato Bacon Pizza</td>\n",
       "      <td>4.50</td>\n",
       "      <td>https://images.media-allrecipes.com/userphotos...</td>\n",
       "      <td>2</td>\n",
       "      <td>red potatoes^strips bacon^Sauce:^heavy whippin...</td>\n",
       "      <td>{u'niacin': {u'hasCompleteData': True, u'name'...</td>\n",
       "    </tr>\n",
       "  </tbody>\n",
       "</table>\n",
       "</div>"
      ],
      "text/plain": [
       "   recipe_id  ...                                         nutritions\n",
       "0     222388  ...  {u'niacin': {u'hasCompleteData': False, u'name...\n",
       "1     240488  ...  {u'niacin': {u'hasCompleteData': False, u'name...\n",
       "2     218939  ...  {u'niacin': {u'hasCompleteData': True, u'name'...\n",
       "3      87211  ...  {u'niacin': {u'hasCompleteData': True, u'name'...\n",
       "4     245714  ...  {u'niacin': {u'hasCompleteData': True, u'name'...\n",
       "\n",
       "[5 rows x 7 columns]"
      ]
     },
     "execution_count": 9,
     "metadata": {},
     "output_type": "execute_result"
    }
   ],
   "source": [
    "data.aver_rate=data.aver_rate.apply(avg_rating)\n",
    "data.head()"
   ]
  },
  {
   "cell_type": "code",
   "execution_count": 13,
   "id": "bc8cf1f3",
   "metadata": {},
   "outputs": [
    {
     "data": {
      "text/plain": [
       "recipe_id        int64\n",
       "recipe_name     object\n",
       "aver_rate      float64\n",
       "image_url       object\n",
       "review_nums      int64\n",
       "ingredients     object\n",
       "nutritions      object\n",
       "dtype: object"
      ]
     },
     "execution_count": 13,
     "metadata": {},
     "output_type": "execute_result"
    }
   ],
   "source": [
    "data.dtypes"
   ]
  },
  {
   "cell_type": "markdown",
   "id": "f719db95",
   "metadata": {},
   "source": [
    "###### The function will make the datatype to object so we need to convert it back to float"
   ]
  },
  {
   "cell_type": "code",
   "execution_count": 12,
   "id": "fee014b1",
   "metadata": {},
   "outputs": [
    {
     "data": {
      "text/plain": [
       "recipe_id        int64\n",
       "recipe_name     object\n",
       "aver_rate      float64\n",
       "image_url       object\n",
       "review_nums      int64\n",
       "ingredients     object\n",
       "nutritions      object\n",
       "dtype: object"
      ]
     },
     "execution_count": 12,
     "metadata": {},
     "output_type": "execute_result"
    }
   ],
   "source": [
    "data.aver_rate=data.aver_rate.astype(float)\n",
    "data.dtypes"
   ]
  },
  {
   "cell_type": "markdown",
   "id": "798d82bb",
   "metadata": {},
   "source": [
    "###### We have the nutritions data as a string of dictionary"
   ]
  },
  {
   "cell_type": "code",
   "execution_count": 19,
   "id": "5d2d9d63",
   "metadata": {},
   "outputs": [
    {
     "data": {
      "text/plain": [
       "\"{u'niacin': {u'hasCompleteData': False, u'name': u'Niacin Equivalents', u'amount': 9.319291, u'percentDailyValue': u'72', u'displayValue': u'9', u'unit': u'mg'}, u'sugars': {u'hasCompleteData': True, u'name': u'Sugars', u'amount': 0.09355932, u'percentDailyValue': u'0', u'displayValue': u'0.1', u'unit': u'g'}, u'sodium': {u'hasCompleteData': True, u'name': u'Sodium', u'amount': 2017.13, u'percentDailyValue': u'81', u'displayValue': u'2017', u'unit': u'mg'}, u'carbohydrates': {u'hasCompleteData': True, u'name': u'Carbohydrates', u'amount': 1.797819, u'percentDailyValue': u'< 1', u'displayValue': u'1.8', u'unit': u'g'}, u'vitaminB6': {u'hasCompleteData': False, u'name': u'Vitamin B6', u'amount': 0.2329798, u'percentDailyValue': u'15', u'displayValue': u'< 1', u'unit': u'mg'}, u'calories': {u'hasCompleteData': True, u'name': u'Calories', u'amount': 308.1481, u'percentDailyValue': u'15', u'displayValue': u'308', u'unit': u'kcal'}, u'thiamin': {u'hasCompleteData': False, u'name': u'Thiamin', u'amount': 0.3947737, u'percentDailyValue': u'39', u'displayValue': u'< 1', u'unit': u'mg'}, u'fat': {u'hasCompleteData': True, u'name': u'Fat', u'amount': 23.58587, u'percentDailyValue': u'36', u'displayValue': u'23.6', u'unit': u'g'}, u'folate': {u'hasCompleteData': False, u'name': u'Folate', u'amount': 2.109131, u'percentDailyValue': u'1', u'displayValue': u'2', u'unit': u'mcg'}, u'caloriesFromFat': {u'hasCompleteData': True, u'name': u'Calories from Fat', u'amount': 212.2728, u'percentDailyValue': u'-', u'displayValue': u'212', u'unit': u'kcal'}, u'calcium': {u'hasCompleteData': False, u'name': u'Calcium', u'amount': 11.18365, u'percentDailyValue': u'1', u'displayValue': u'11', u'unit': u'mg'}, u'fiber': {u'hasCompleteData': True, u'name': u'Dietary Fiber', u'amount': 0.5318869, u'percentDailyValue': u'2', u'displayValue': u'0.5', u'unit': u'g'}, u'magnesium': {u'hasCompleteData': False, u'name': u'Magnesium', u'amount': 21.65558, u'percentDailyValue': u'8', u'displayValue': u'22', u'unit': u'mg'}, u'iron': {u'hasCompleteData': False, u'name': u'Iron', u'amount': 1.240848, u'percentDailyValue': u'12', u'displayValue': u'1', u'unit': u'mg'}, u'cholesterol': {u'hasCompleteData': True, u'name': u'Cholesterol', u'amount': 61.7375, u'percentDailyValue': u'21', u'displayValue': u'62', u'unit': u'mg'}, u'protein': {u'hasCompleteData': True, u'name': u'Protein', u'amount': 21.00254, u'percentDailyValue': u'42', u'displayValue': u'21', u'unit': u'g'}, u'vitaminA': {u'hasCompleteData': False, u'name': u'Vitamin A - IU', u'amount': 474.2073, u'percentDailyValue': u'9', u'displayValue': u'474', u'unit': u'IU'}, u'potassium': {u'hasCompleteData': False, u'name': u'Potassium', u'amount': 347.2267, u'percentDailyValue': u'10', u'displayValue': u'347', u'unit': u'mg'}, u'saturatedFat': {u'hasCompleteData': True, u'name': u'Saturated Fat', u'amount': 7.736815, u'percentDailyValue': u'39', u'displayValue': u'7.7', u'unit': u'g'}, u'vitaminC': {u'hasCompleteData': False, u'name': u'Vitamin C', u'amount': 0.7761272, u'percentDailyValue': u'1', u'displayValue': u'< 1', u'unit': u'mg'}}\""
      ]
     },
     "execution_count": 19,
     "metadata": {},
     "output_type": "execute_result"
    }
   ],
   "source": [
    "data.nutritions[0]"
   ]
  },
  {
   "cell_type": "markdown",
   "id": "501a05b7",
   "metadata": {},
   "source": [
    "###### so we have to convert it into a python dictionary"
   ]
  },
  {
   "cell_type": "code",
   "execution_count": 17,
   "id": "91c43bf5",
   "metadata": {},
   "outputs": [
    {
     "data": {
      "text/plain": [
       "{'niacin': {'hasCompleteData': False,\n",
       "  'name': 'Niacin Equivalents',\n",
       "  'amount': 15.6016,\n",
       "  'percentDailyValue': '120',\n",
       "  'displayValue': '16',\n",
       "  'unit': 'mg'},\n",
       " 'sugars': {'hasCompleteData': False,\n",
       "  'name': 'Sugars',\n",
       "  'amount': 19.84146,\n",
       "  'percentDailyValue': '0',\n",
       "  'displayValue': '19.8',\n",
       "  'unit': 'g'},\n",
       " 'sodium': {'hasCompleteData': False,\n",
       "  'name': 'Sodium',\n",
       "  'amount': 2606.764,\n",
       "  'percentDailyValue': '104',\n",
       "  'displayValue': '2607',\n",
       "  'unit': 'mg'},\n",
       " 'carbohydrates': {'hasCompleteData': True,\n",
       "  'name': 'Carbohydrates',\n",
       "  'amount': 32.08176,\n",
       "  'percentDailyValue': '10',\n",
       "  'displayValue': '32.1',\n",
       "  'unit': 'g'},\n",
       " 'vitaminB6': {'hasCompleteData': False,\n",
       "  'name': 'Vitamin B6',\n",
       "  'amount': 1.328631,\n",
       "  'percentDailyValue': '83',\n",
       "  'displayValue': '1',\n",
       "  'unit': 'mg'},\n",
       " 'calories': {'hasCompleteData': True,\n",
       "  'name': 'Calories',\n",
       "  'amount': 371.7219,\n",
       "  'percentDailyValue': '19',\n",
       "  'displayValue': '372',\n",
       "  'unit': 'kcal'},\n",
       " 'thiamin': {'hasCompleteData': False,\n",
       "  'name': 'Thiamin',\n",
       "  'amount': 0.8423121,\n",
       "  'percentDailyValue': '84',\n",
       "  'displayValue': '< 1',\n",
       "  'unit': 'mg'},\n",
       " 'fat': {'hasCompleteData': True,\n",
       "  'name': 'Fat',\n",
       "  'amount': 11.67521,\n",
       "  'percentDailyValue': '18',\n",
       "  'displayValue': '11.7',\n",
       "  'unit': 'g'},\n",
       " 'folate': {'hasCompleteData': False,\n",
       "  'name': 'Folate',\n",
       "  'amount': 83.73925,\n",
       "  'percentDailyValue': '47',\n",
       "  'displayValue': '84',\n",
       "  'unit': 'mcg'},\n",
       " 'caloriesFromFat': {'hasCompleteData': True,\n",
       "  'name': 'Calories from Fat',\n",
       "  'amount': 105.0769,\n",
       "  'percentDailyValue': '-',\n",
       "  'displayValue': '105',\n",
       "  'unit': 'kcal'},\n",
       " 'calcium': {'hasCompleteData': True,\n",
       "  'name': 'Calcium',\n",
       "  'amount': 135.4538,\n",
       "  'percentDailyValue': '17',\n",
       "  'displayValue': '135',\n",
       "  'unit': 'mg'},\n",
       " 'fiber': {'hasCompleteData': False,\n",
       "  'name': 'Dietary Fiber',\n",
       "  'amount': 10.22336,\n",
       "  'percentDailyValue': '41',\n",
       "  'displayValue': '10.2',\n",
       "  'unit': 'g'},\n",
       " 'magnesium': {'hasCompleteData': False,\n",
       "  'name': 'Magnesium',\n",
       "  'amount': 80.73712,\n",
       "  'percentDailyValue': '29',\n",
       "  'displayValue': '81',\n",
       "  'unit': 'mg'},\n",
       " 'iron': {'hasCompleteData': True,\n",
       "  'name': 'Iron',\n",
       "  'amount': 6.622245,\n",
       "  'percentDailyValue': '66',\n",
       "  'displayValue': '7',\n",
       "  'unit': 'mg'},\n",
       " 'cholesterol': {'hasCompleteData': False,\n",
       "  'name': 'Cholesterol',\n",
       "  'amount': 99.2,\n",
       "  'percentDailyValue': '33',\n",
       "  'displayValue': '99',\n",
       "  'unit': 'mg'},\n",
       " 'protein': {'hasCompleteData': True,\n",
       "  'name': 'Protein',\n",
       "  'amount': 36.39878,\n",
       "  'percentDailyValue': '73',\n",
       "  'displayValue': '36.4',\n",
       "  'unit': 'g'},\n",
       " 'vitaminA': {'hasCompleteData': False,\n",
       "  'name': 'Vitamin A - IU',\n",
       "  'amount': 73.17785,\n",
       "  'percentDailyValue': '1',\n",
       "  'displayValue': '73',\n",
       "  'unit': 'IU'},\n",
       " 'potassium': {'hasCompleteData': False,\n",
       "  'name': 'Potassium',\n",
       "  'amount': 1088.923,\n",
       "  'percentDailyValue': '31',\n",
       "  'displayValue': '1089',\n",
       "  'unit': 'mg'},\n",
       " 'saturatedFat': {'hasCompleteData': False,\n",
       "  'name': 'Saturated Fat',\n",
       "  'amount': 3.646474,\n",
       "  'percentDailyValue': '18',\n",
       "  'displayValue': '3.6',\n",
       "  'unit': 'g'},\n",
       " 'vitaminC': {'hasCompleteData': False,\n",
       "  'name': 'Vitamin C',\n",
       "  'amount': 52.76848,\n",
       "  'percentDailyValue': '88',\n",
       "  'displayValue': '53',\n",
       "  'unit': 'mg'}}"
      ]
     },
     "execution_count": 17,
     "metadata": {},
     "output_type": "execute_result"
    }
   ],
   "source": [
    "list_of_dict = []\n",
    "\n",
    "for row in data.nutritions:\n",
    "    list_of_dict.append(ast.literal_eval(row))\n",
    "list_of_dict[1]"
   ]
  },
  {
   "cell_type": "markdown",
   "id": "3c98f1e0",
   "metadata": {},
   "source": [
    "###### Now we have to extract percent daily values for some important  nutritions"
   ]
  },
  {
   "cell_type": "code",
   "execution_count": 20,
   "id": "81e0f02a",
   "metadata": {},
   "outputs": [],
   "source": [
    "calories_list = []\n",
    "fat_list = []\n",
    "carbohydrates_list = []\n",
    "protein_list = []\n",
    "cholesterol_list = []\n",
    "sodium_list = []\n",
    "fiber_list = []"
   ]
  },
  {
   "cell_type": "code",
   "execution_count": null,
   "id": "7920155a",
   "metadata": {},
   "outputs": [],
   "source": []
  }
 ],
 "metadata": {
  "kernelspec": {
   "display_name": "Python 3 (ipykernel)",
   "language": "python",
   "name": "python3"
  },
  "language_info": {
   "codemirror_mode": {
    "name": "ipython",
    "version": 3
   },
   "file_extension": ".py",
   "mimetype": "text/x-python",
   "name": "python",
   "nbconvert_exporter": "python",
   "pygments_lexer": "ipython3",
   "version": "3.11.5"
  }
 },
 "nbformat": 4,
 "nbformat_minor": 5
}
