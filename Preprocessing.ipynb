{
 "cells": [
  {
   "cell_type": "markdown",
   "id": "9bf908f7",
   "metadata": {},
   "source": [
    "## Importing necessary Tools"
   ]
  },
  {
   "cell_type": "code",
   "execution_count": 1,
   "id": "7f5eaa14",
   "metadata": {},
   "outputs": [],
   "source": [
    "import pandas as pd\n",
    "import matplotlib.pyplot as plt\n",
    "from sklearn import preprocessing\n",
    "import numpy as np\n",
    "from sklearn.preprocessing import normalize\n",
    "\n",
    "import ast"
   ]
  },
  {
   "cell_type": "markdown",
   "id": "aec5a7ef",
   "metadata": {},
   "source": [
    "## Importing the Dataset"
   ]
  },
  {
   "cell_type": "code",
   "execution_count": 2,
   "id": "eecc9d03",
   "metadata": {},
   "outputs": [],
   "source": [
    "data=pd.read_csv('dataset/raw-data_recipe.csv')"
   ]
  },
  {
   "cell_type": "code",
   "execution_count": 3,
   "id": "ac3c0add",
   "metadata": {},
   "outputs": [
    {
     "data": {
      "text/html": [
       "<div>\n",
       "<style scoped>\n",
       "    .dataframe tbody tr th:only-of-type {\n",
       "        vertical-align: middle;\n",
       "    }\n",
       "\n",
       "    .dataframe tbody tr th {\n",
       "        vertical-align: top;\n",
       "    }\n",
       "\n",
       "    .dataframe thead th {\n",
       "        text-align: right;\n",
       "    }\n",
       "</style>\n",
       "<table border=\"1\" class=\"dataframe\">\n",
       "  <thead>\n",
       "    <tr style=\"text-align: right;\">\n",
       "      <th></th>\n",
       "      <th>recipe_id</th>\n",
       "      <th>recipe_name</th>\n",
       "      <th>aver_rate</th>\n",
       "      <th>image_url</th>\n",
       "      <th>review_nums</th>\n",
       "      <th>ingredients</th>\n",
       "      <th>cooking_directions</th>\n",
       "      <th>nutritions</th>\n",
       "      <th>reviews</th>\n",
       "    </tr>\n",
       "  </thead>\n",
       "  <tbody>\n",
       "    <tr>\n",
       "      <th>0</th>\n",
       "      <td>222388</td>\n",
       "      <td>Homemade Bacon</td>\n",
       "      <td>5.000000</td>\n",
       "      <td>https://images.media-allrecipes.com/userphotos...</td>\n",
       "      <td>3</td>\n",
       "      <td>pork belly^smoked paprika^kosher salt^ground b...</td>\n",
       "      <td>{'directions': u'Prep\\n5 m\\nCook\\n2 h 45 m\\nRe...</td>\n",
       "      <td>{u'niacin': {u'hasCompleteData': False, u'name...</td>\n",
       "      <td>{8542392: {'rating': 5, 'followersCount': 11, ...</td>\n",
       "    </tr>\n",
       "    <tr>\n",
       "      <th>1</th>\n",
       "      <td>240488</td>\n",
       "      <td>Pork Loin, Apples, and Sauerkraut</td>\n",
       "      <td>4.764706</td>\n",
       "      <td>https://images.media-allrecipes.com/userphotos...</td>\n",
       "      <td>29</td>\n",
       "      <td>sauerkraut drained^Granny Smith apples sliced^...</td>\n",
       "      <td>{'directions': u'Prep\\n15 m\\nCook\\n2 h 30 m\\nR...</td>\n",
       "      <td>{u'niacin': {u'hasCompleteData': False, u'name...</td>\n",
       "      <td>{3574785: {'rating': 5, 'followersCount': 0, '...</td>\n",
       "    </tr>\n",
       "    <tr>\n",
       "      <th>2</th>\n",
       "      <td>218939</td>\n",
       "      <td>Foolproof Rosemary Chicken Wings</td>\n",
       "      <td>4.571429</td>\n",
       "      <td>https://images.media-allrecipes.com/userphotos...</td>\n",
       "      <td>12</td>\n",
       "      <td>chicken wings^sprigs rosemary^head garlic^oliv...</td>\n",
       "      <td>{'directions': u\"Prep\\n20 m\\nCook\\n40 m\\nReady...</td>\n",
       "      <td>{u'niacin': {u'hasCompleteData': True, u'name'...</td>\n",
       "      <td>{13774946: {'rating': 5, 'followersCount': 0, ...</td>\n",
       "    </tr>\n",
       "    <tr>\n",
       "      <th>3</th>\n",
       "      <td>87211</td>\n",
       "      <td>Chicken Pesto Paninis</td>\n",
       "      <td>4.625000</td>\n",
       "      <td>https://images.media-allrecipes.com/userphotos...</td>\n",
       "      <td>163</td>\n",
       "      <td>focaccia bread quartered^prepared basil pesto^...</td>\n",
       "      <td>{'directions': u'Prep\\n15 m\\nCook\\n5 m\\nReady ...</td>\n",
       "      <td>{u'niacin': {u'hasCompleteData': True, u'name'...</td>\n",
       "      <td>{1563136: {'rating': 5, 'followersCount': 0, '...</td>\n",
       "    </tr>\n",
       "    <tr>\n",
       "      <th>4</th>\n",
       "      <td>245714</td>\n",
       "      <td>Potato Bacon Pizza</td>\n",
       "      <td>4.500000</td>\n",
       "      <td>https://images.media-allrecipes.com/userphotos...</td>\n",
       "      <td>2</td>\n",
       "      <td>red potatoes^strips bacon^Sauce:^heavy whippin...</td>\n",
       "      <td>{'directions': u'Prep\\n20 m\\nCook\\n45 m\\nReady...</td>\n",
       "      <td>{u'niacin': {u'hasCompleteData': True, u'name'...</td>\n",
       "      <td>{2945555: {'rating': 5, 'followersCount': 6690...</td>\n",
       "    </tr>\n",
       "  </tbody>\n",
       "</table>\n",
       "</div>"
      ],
      "text/plain": [
       "   recipe_id                        recipe_name  aver_rate  \\\n",
       "0     222388                     Homemade Bacon   5.000000   \n",
       "1     240488  Pork Loin, Apples, and Sauerkraut   4.764706   \n",
       "2     218939   Foolproof Rosemary Chicken Wings   4.571429   \n",
       "3      87211              Chicken Pesto Paninis   4.625000   \n",
       "4     245714                 Potato Bacon Pizza   4.500000   \n",
       "\n",
       "                                           image_url  review_nums  \\\n",
       "0  https://images.media-allrecipes.com/userphotos...            3   \n",
       "1  https://images.media-allrecipes.com/userphotos...           29   \n",
       "2  https://images.media-allrecipes.com/userphotos...           12   \n",
       "3  https://images.media-allrecipes.com/userphotos...          163   \n",
       "4  https://images.media-allrecipes.com/userphotos...            2   \n",
       "\n",
       "                                         ingredients  \\\n",
       "0  pork belly^smoked paprika^kosher salt^ground b...   \n",
       "1  sauerkraut drained^Granny Smith apples sliced^...   \n",
       "2  chicken wings^sprigs rosemary^head garlic^oliv...   \n",
       "3  focaccia bread quartered^prepared basil pesto^...   \n",
       "4  red potatoes^strips bacon^Sauce:^heavy whippin...   \n",
       "\n",
       "                                  cooking_directions  \\\n",
       "0  {'directions': u'Prep\\n5 m\\nCook\\n2 h 45 m\\nRe...   \n",
       "1  {'directions': u'Prep\\n15 m\\nCook\\n2 h 30 m\\nR...   \n",
       "2  {'directions': u\"Prep\\n20 m\\nCook\\n40 m\\nReady...   \n",
       "3  {'directions': u'Prep\\n15 m\\nCook\\n5 m\\nReady ...   \n",
       "4  {'directions': u'Prep\\n20 m\\nCook\\n45 m\\nReady...   \n",
       "\n",
       "                                          nutritions  \\\n",
       "0  {u'niacin': {u'hasCompleteData': False, u'name...   \n",
       "1  {u'niacin': {u'hasCompleteData': False, u'name...   \n",
       "2  {u'niacin': {u'hasCompleteData': True, u'name'...   \n",
       "3  {u'niacin': {u'hasCompleteData': True, u'name'...   \n",
       "4  {u'niacin': {u'hasCompleteData': True, u'name'...   \n",
       "\n",
       "                                             reviews  \n",
       "0  {8542392: {'rating': 5, 'followersCount': 11, ...  \n",
       "1  {3574785: {'rating': 5, 'followersCount': 0, '...  \n",
       "2  {13774946: {'rating': 5, 'followersCount': 0, ...  \n",
       "3  {1563136: {'rating': 5, 'followersCount': 0, '...  \n",
       "4  {2945555: {'rating': 5, 'followersCount': 6690...  "
      ]
     },
     "execution_count": 3,
     "metadata": {},
     "output_type": "execute_result"
    }
   ],
   "source": [
    "data.head()"
   ]
  },
  {
   "cell_type": "code",
   "execution_count": 4,
   "id": "de54e1dc",
   "metadata": {},
   "outputs": [
    {
     "data": {
      "text/plain": [
       "(49698, 9)"
      ]
     },
     "execution_count": 4,
     "metadata": {},
     "output_type": "execute_result"
    }
   ],
   "source": [
    "data.shape"
   ]
  },
  {
   "cell_type": "code",
   "execution_count": 5,
   "id": "12596ec2",
   "metadata": {},
   "outputs": [
    {
     "data": {
      "text/plain": [
       "recipe_id             0\n",
       "recipe_name           0\n",
       "aver_rate             0\n",
       "image_url             0\n",
       "review_nums           0\n",
       "ingredients           0\n",
       "cooking_directions    0\n",
       "nutritions            0\n",
       "reviews               0\n",
       "dtype: int64"
      ]
     },
     "execution_count": 5,
     "metadata": {},
     "output_type": "execute_result"
    }
   ],
   "source": [
    "data.isnull().sum()"
   ]
  },
  {
   "cell_type": "code",
   "execution_count": 6,
   "id": "0643674c",
   "metadata": {},
   "outputs": [
    {
     "data": {
      "text/plain": [
       "\"{'directions': u'Prep\\\\n5 m\\\\nCook\\\\n2 h 45 m\\\\nReady In\\\\n11 h 50 m\\\\nPreheat oven to 200 degrees F (95 degrees C).\\\\nSeason pork belly with paprika, salt, and pepper. Tightly wrap pork twice in heavy-duty aluminum foil. Place on a baking sheet and bake in the preheated oven for 2 1/2 hours. Turn off the oven; let pork rest in the oven for 1 hour. Remove meat from oven, leaving it wrapped in aluminum foil, and refrigerate at least 8 hours or overnight.\\\\nRemove pork from foil and slice across the grain in 1/4-inch thick slices. Working in batches, cook pork in a non-stick skillet over medium heat until golden and crisped, 6 to 8 minutes per slice.'}\""
      ]
     },
     "execution_count": 6,
     "metadata": {},
     "output_type": "execute_result"
    }
   ],
   "source": [
    "data['cooking_directions'][0]"
   ]
  },
  {
   "cell_type": "markdown",
   "id": "eab34786",
   "metadata": {},
   "source": [
    "## Preprocessing the Data"
   ]
  },
  {
   "cell_type": "markdown",
   "id": "4380a303",
   "metadata": {},
   "source": [
    "###### we don't have any use with the cooking_directions and reviews column in the dataset ,sot droping it will the best option"
   ]
  },
  {
   "cell_type": "code",
   "execution_count": 7,
   "id": "16bc48e2",
   "metadata": {},
   "outputs": [
    {
     "data": {
      "text/html": [
       "<div>\n",
       "<style scoped>\n",
       "    .dataframe tbody tr th:only-of-type {\n",
       "        vertical-align: middle;\n",
       "    }\n",
       "\n",
       "    .dataframe tbody tr th {\n",
       "        vertical-align: top;\n",
       "    }\n",
       "\n",
       "    .dataframe thead th {\n",
       "        text-align: right;\n",
       "    }\n",
       "</style>\n",
       "<table border=\"1\" class=\"dataframe\">\n",
       "  <thead>\n",
       "    <tr style=\"text-align: right;\">\n",
       "      <th></th>\n",
       "      <th>recipe_id</th>\n",
       "      <th>recipe_name</th>\n",
       "      <th>aver_rate</th>\n",
       "      <th>image_url</th>\n",
       "      <th>review_nums</th>\n",
       "      <th>ingredients</th>\n",
       "      <th>nutritions</th>\n",
       "    </tr>\n",
       "  </thead>\n",
       "  <tbody>\n",
       "    <tr>\n",
       "      <th>0</th>\n",
       "      <td>222388</td>\n",
       "      <td>Homemade Bacon</td>\n",
       "      <td>5.000000</td>\n",
       "      <td>https://images.media-allrecipes.com/userphotos...</td>\n",
       "      <td>3</td>\n",
       "      <td>pork belly^smoked paprika^kosher salt^ground b...</td>\n",
       "      <td>{u'niacin': {u'hasCompleteData': False, u'name...</td>\n",
       "    </tr>\n",
       "    <tr>\n",
       "      <th>1</th>\n",
       "      <td>240488</td>\n",
       "      <td>Pork Loin, Apples, and Sauerkraut</td>\n",
       "      <td>4.764706</td>\n",
       "      <td>https://images.media-allrecipes.com/userphotos...</td>\n",
       "      <td>29</td>\n",
       "      <td>sauerkraut drained^Granny Smith apples sliced^...</td>\n",
       "      <td>{u'niacin': {u'hasCompleteData': False, u'name...</td>\n",
       "    </tr>\n",
       "    <tr>\n",
       "      <th>2</th>\n",
       "      <td>218939</td>\n",
       "      <td>Foolproof Rosemary Chicken Wings</td>\n",
       "      <td>4.571429</td>\n",
       "      <td>https://images.media-allrecipes.com/userphotos...</td>\n",
       "      <td>12</td>\n",
       "      <td>chicken wings^sprigs rosemary^head garlic^oliv...</td>\n",
       "      <td>{u'niacin': {u'hasCompleteData': True, u'name'...</td>\n",
       "    </tr>\n",
       "    <tr>\n",
       "      <th>3</th>\n",
       "      <td>87211</td>\n",
       "      <td>Chicken Pesto Paninis</td>\n",
       "      <td>4.625000</td>\n",
       "      <td>https://images.media-allrecipes.com/userphotos...</td>\n",
       "      <td>163</td>\n",
       "      <td>focaccia bread quartered^prepared basil pesto^...</td>\n",
       "      <td>{u'niacin': {u'hasCompleteData': True, u'name'...</td>\n",
       "    </tr>\n",
       "    <tr>\n",
       "      <th>4</th>\n",
       "      <td>245714</td>\n",
       "      <td>Potato Bacon Pizza</td>\n",
       "      <td>4.500000</td>\n",
       "      <td>https://images.media-allrecipes.com/userphotos...</td>\n",
       "      <td>2</td>\n",
       "      <td>red potatoes^strips bacon^Sauce:^heavy whippin...</td>\n",
       "      <td>{u'niacin': {u'hasCompleteData': True, u'name'...</td>\n",
       "    </tr>\n",
       "  </tbody>\n",
       "</table>\n",
       "</div>"
      ],
      "text/plain": [
       "   recipe_id                        recipe_name  aver_rate  \\\n",
       "0     222388                     Homemade Bacon   5.000000   \n",
       "1     240488  Pork Loin, Apples, and Sauerkraut   4.764706   \n",
       "2     218939   Foolproof Rosemary Chicken Wings   4.571429   \n",
       "3      87211              Chicken Pesto Paninis   4.625000   \n",
       "4     245714                 Potato Bacon Pizza   4.500000   \n",
       "\n",
       "                                           image_url  review_nums  \\\n",
       "0  https://images.media-allrecipes.com/userphotos...            3   \n",
       "1  https://images.media-allrecipes.com/userphotos...           29   \n",
       "2  https://images.media-allrecipes.com/userphotos...           12   \n",
       "3  https://images.media-allrecipes.com/userphotos...          163   \n",
       "4  https://images.media-allrecipes.com/userphotos...            2   \n",
       "\n",
       "                                         ingredients  \\\n",
       "0  pork belly^smoked paprika^kosher salt^ground b...   \n",
       "1  sauerkraut drained^Granny Smith apples sliced^...   \n",
       "2  chicken wings^sprigs rosemary^head garlic^oliv...   \n",
       "3  focaccia bread quartered^prepared basil pesto^...   \n",
       "4  red potatoes^strips bacon^Sauce:^heavy whippin...   \n",
       "\n",
       "                                          nutritions  \n",
       "0  {u'niacin': {u'hasCompleteData': False, u'name...  \n",
       "1  {u'niacin': {u'hasCompleteData': False, u'name...  \n",
       "2  {u'niacin': {u'hasCompleteData': True, u'name'...  \n",
       "3  {u'niacin': {u'hasCompleteData': True, u'name'...  \n",
       "4  {u'niacin': {u'hasCompleteData': True, u'name'...  "
      ]
     },
     "execution_count": 7,
     "metadata": {},
     "output_type": "execute_result"
    }
   ],
   "source": [
    "data=data.drop(columns=['cooking_directions','reviews'])\n",
    "data.head()"
   ]
  },
  {
   "cell_type": "markdown",
   "id": "a12347b1",
   "metadata": {},
   "source": [
    "###### Now we want to make the average_rating to a 2 decimal number.\n",
    "###### For that we can create a function"
   ]
  },
  {
   "cell_type": "code",
   "execution_count": 8,
   "id": "0971f953",
   "metadata": {},
   "outputs": [],
   "source": [
    "def avg_rating(col):\n",
    "    return f'{col:.2f}'"
   ]
  },
  {
   "cell_type": "markdown",
   "id": "b8ba4443",
   "metadata": {},
   "source": [
    "###### Apply the function to the aver_rate column in the dataset"
   ]
  },
  {
   "cell_type": "code",
   "execution_count": 9,
   "id": "0cb14b86",
   "metadata": {},
   "outputs": [
    {
     "data": {
      "text/html": [
       "<div>\n",
       "<style scoped>\n",
       "    .dataframe tbody tr th:only-of-type {\n",
       "        vertical-align: middle;\n",
       "    }\n",
       "\n",
       "    .dataframe tbody tr th {\n",
       "        vertical-align: top;\n",
       "    }\n",
       "\n",
       "    .dataframe thead th {\n",
       "        text-align: right;\n",
       "    }\n",
       "</style>\n",
       "<table border=\"1\" class=\"dataframe\">\n",
       "  <thead>\n",
       "    <tr style=\"text-align: right;\">\n",
       "      <th></th>\n",
       "      <th>recipe_id</th>\n",
       "      <th>recipe_name</th>\n",
       "      <th>aver_rate</th>\n",
       "      <th>image_url</th>\n",
       "      <th>review_nums</th>\n",
       "      <th>ingredients</th>\n",
       "      <th>nutritions</th>\n",
       "    </tr>\n",
       "  </thead>\n",
       "  <tbody>\n",
       "    <tr>\n",
       "      <th>0</th>\n",
       "      <td>222388</td>\n",
       "      <td>Homemade Bacon</td>\n",
       "      <td>5.00</td>\n",
       "      <td>https://images.media-allrecipes.com/userphotos...</td>\n",
       "      <td>3</td>\n",
       "      <td>pork belly^smoked paprika^kosher salt^ground b...</td>\n",
       "      <td>{u'niacin': {u'hasCompleteData': False, u'name...</td>\n",
       "    </tr>\n",
       "    <tr>\n",
       "      <th>1</th>\n",
       "      <td>240488</td>\n",
       "      <td>Pork Loin, Apples, and Sauerkraut</td>\n",
       "      <td>4.76</td>\n",
       "      <td>https://images.media-allrecipes.com/userphotos...</td>\n",
       "      <td>29</td>\n",
       "      <td>sauerkraut drained^Granny Smith apples sliced^...</td>\n",
       "      <td>{u'niacin': {u'hasCompleteData': False, u'name...</td>\n",
       "    </tr>\n",
       "    <tr>\n",
       "      <th>2</th>\n",
       "      <td>218939</td>\n",
       "      <td>Foolproof Rosemary Chicken Wings</td>\n",
       "      <td>4.57</td>\n",
       "      <td>https://images.media-allrecipes.com/userphotos...</td>\n",
       "      <td>12</td>\n",
       "      <td>chicken wings^sprigs rosemary^head garlic^oliv...</td>\n",
       "      <td>{u'niacin': {u'hasCompleteData': True, u'name'...</td>\n",
       "    </tr>\n",
       "    <tr>\n",
       "      <th>3</th>\n",
       "      <td>87211</td>\n",
       "      <td>Chicken Pesto Paninis</td>\n",
       "      <td>4.62</td>\n",
       "      <td>https://images.media-allrecipes.com/userphotos...</td>\n",
       "      <td>163</td>\n",
       "      <td>focaccia bread quartered^prepared basil pesto^...</td>\n",
       "      <td>{u'niacin': {u'hasCompleteData': True, u'name'...</td>\n",
       "    </tr>\n",
       "    <tr>\n",
       "      <th>4</th>\n",
       "      <td>245714</td>\n",
       "      <td>Potato Bacon Pizza</td>\n",
       "      <td>4.50</td>\n",
       "      <td>https://images.media-allrecipes.com/userphotos...</td>\n",
       "      <td>2</td>\n",
       "      <td>red potatoes^strips bacon^Sauce:^heavy whippin...</td>\n",
       "      <td>{u'niacin': {u'hasCompleteData': True, u'name'...</td>\n",
       "    </tr>\n",
       "  </tbody>\n",
       "</table>\n",
       "</div>"
      ],
      "text/plain": [
       "   recipe_id                        recipe_name aver_rate  \\\n",
       "0     222388                     Homemade Bacon      5.00   \n",
       "1     240488  Pork Loin, Apples, and Sauerkraut      4.76   \n",
       "2     218939   Foolproof Rosemary Chicken Wings      4.57   \n",
       "3      87211              Chicken Pesto Paninis      4.62   \n",
       "4     245714                 Potato Bacon Pizza      4.50   \n",
       "\n",
       "                                           image_url  review_nums  \\\n",
       "0  https://images.media-allrecipes.com/userphotos...            3   \n",
       "1  https://images.media-allrecipes.com/userphotos...           29   \n",
       "2  https://images.media-allrecipes.com/userphotos...           12   \n",
       "3  https://images.media-allrecipes.com/userphotos...          163   \n",
       "4  https://images.media-allrecipes.com/userphotos...            2   \n",
       "\n",
       "                                         ingredients  \\\n",
       "0  pork belly^smoked paprika^kosher salt^ground b...   \n",
       "1  sauerkraut drained^Granny Smith apples sliced^...   \n",
       "2  chicken wings^sprigs rosemary^head garlic^oliv...   \n",
       "3  focaccia bread quartered^prepared basil pesto^...   \n",
       "4  red potatoes^strips bacon^Sauce:^heavy whippin...   \n",
       "\n",
       "                                          nutritions  \n",
       "0  {u'niacin': {u'hasCompleteData': False, u'name...  \n",
       "1  {u'niacin': {u'hasCompleteData': False, u'name...  \n",
       "2  {u'niacin': {u'hasCompleteData': True, u'name'...  \n",
       "3  {u'niacin': {u'hasCompleteData': True, u'name'...  \n",
       "4  {u'niacin': {u'hasCompleteData': True, u'name'...  "
      ]
     },
     "execution_count": 9,
     "metadata": {},
     "output_type": "execute_result"
    }
   ],
   "source": [
    "data.aver_rate=data.aver_rate.apply(avg_rating)\n",
    "data.head()"
   ]
  },
  {
   "cell_type": "code",
   "execution_count": 10,
   "id": "c2dc1ea7",
   "metadata": {},
   "outputs": [
    {
     "data": {
      "text/plain": [
       "recipe_id       int64\n",
       "recipe_name    object\n",
       "aver_rate      object\n",
       "image_url      object\n",
       "review_nums     int64\n",
       "ingredients    object\n",
       "nutritions     object\n",
       "dtype: object"
      ]
     },
     "execution_count": 10,
     "metadata": {},
     "output_type": "execute_result"
    }
   ],
   "source": [
    "data.dtypes"
   ]
  },
  {
   "cell_type": "markdown",
   "id": "030f8ffd",
   "metadata": {},
   "source": [
    "###### The function will make the datatype to object so we need to convert it back to float"
   ]
  },
  {
   "cell_type": "code",
   "execution_count": 11,
   "id": "b9be6660",
   "metadata": {},
   "outputs": [
    {
     "data": {
      "text/plain": [
       "recipe_id        int64\n",
       "recipe_name     object\n",
       "aver_rate      float64\n",
       "image_url       object\n",
       "review_nums      int64\n",
       "ingredients     object\n",
       "nutritions      object\n",
       "dtype: object"
      ]
     },
     "execution_count": 11,
     "metadata": {},
     "output_type": "execute_result"
    }
   ],
   "source": [
    "data.aver_rate=data.aver_rate.astype(float)\n",
    "data.dtypes"
   ]
  },
  {
   "cell_type": "markdown",
   "id": "d861c566",
   "metadata": {},
   "source": [
    "###### We have the nutritions data as a string of dictionary"
   ]
  },
  {
   "cell_type": "code",
   "execution_count": 12,
   "id": "ee759ffd",
   "metadata": {},
   "outputs": [
    {
     "data": {
      "text/plain": [
       "\"{u'niacin': {u'hasCompleteData': False, u'name': u'Niacin Equivalents', u'amount': 9.319291, u'percentDailyValue': u'72', u'displayValue': u'9', u'unit': u'mg'}, u'sugars': {u'hasCompleteData': True, u'name': u'Sugars', u'amount': 0.09355932, u'percentDailyValue': u'0', u'displayValue': u'0.1', u'unit': u'g'}, u'sodium': {u'hasCompleteData': True, u'name': u'Sodium', u'amount': 2017.13, u'percentDailyValue': u'81', u'displayValue': u'2017', u'unit': u'mg'}, u'carbohydrates': {u'hasCompleteData': True, u'name': u'Carbohydrates', u'amount': 1.797819, u'percentDailyValue': u'< 1', u'displayValue': u'1.8', u'unit': u'g'}, u'vitaminB6': {u'hasCompleteData': False, u'name': u'Vitamin B6', u'amount': 0.2329798, u'percentDailyValue': u'15', u'displayValue': u'< 1', u'unit': u'mg'}, u'calories': {u'hasCompleteData': True, u'name': u'Calories', u'amount': 308.1481, u'percentDailyValue': u'15', u'displayValue': u'308', u'unit': u'kcal'}, u'thiamin': {u'hasCompleteData': False, u'name': u'Thiamin', u'amount': 0.3947737, u'percentDailyValue': u'39', u'displayValue': u'< 1', u'unit': u'mg'}, u'fat': {u'hasCompleteData': True, u'name': u'Fat', u'amount': 23.58587, u'percentDailyValue': u'36', u'displayValue': u'23.6', u'unit': u'g'}, u'folate': {u'hasCompleteData': False, u'name': u'Folate', u'amount': 2.109131, u'percentDailyValue': u'1', u'displayValue': u'2', u'unit': u'mcg'}, u'caloriesFromFat': {u'hasCompleteData': True, u'name': u'Calories from Fat', u'amount': 212.2728, u'percentDailyValue': u'-', u'displayValue': u'212', u'unit': u'kcal'}, u'calcium': {u'hasCompleteData': False, u'name': u'Calcium', u'amount': 11.18365, u'percentDailyValue': u'1', u'displayValue': u'11', u'unit': u'mg'}, u'fiber': {u'hasCompleteData': True, u'name': u'Dietary Fiber', u'amount': 0.5318869, u'percentDailyValue': u'2', u'displayValue': u'0.5', u'unit': u'g'}, u'magnesium': {u'hasCompleteData': False, u'name': u'Magnesium', u'amount': 21.65558, u'percentDailyValue': u'8', u'displayValue': u'22', u'unit': u'mg'}, u'iron': {u'hasCompleteData': False, u'name': u'Iron', u'amount': 1.240848, u'percentDailyValue': u'12', u'displayValue': u'1', u'unit': u'mg'}, u'cholesterol': {u'hasCompleteData': True, u'name': u'Cholesterol', u'amount': 61.7375, u'percentDailyValue': u'21', u'displayValue': u'62', u'unit': u'mg'}, u'protein': {u'hasCompleteData': True, u'name': u'Protein', u'amount': 21.00254, u'percentDailyValue': u'42', u'displayValue': u'21', u'unit': u'g'}, u'vitaminA': {u'hasCompleteData': False, u'name': u'Vitamin A - IU', u'amount': 474.2073, u'percentDailyValue': u'9', u'displayValue': u'474', u'unit': u'IU'}, u'potassium': {u'hasCompleteData': False, u'name': u'Potassium', u'amount': 347.2267, u'percentDailyValue': u'10', u'displayValue': u'347', u'unit': u'mg'}, u'saturatedFat': {u'hasCompleteData': True, u'name': u'Saturated Fat', u'amount': 7.736815, u'percentDailyValue': u'39', u'displayValue': u'7.7', u'unit': u'g'}, u'vitaminC': {u'hasCompleteData': False, u'name': u'Vitamin C', u'amount': 0.7761272, u'percentDailyValue': u'1', u'displayValue': u'< 1', u'unit': u'mg'}}\""
      ]
     },
     "execution_count": 12,
     "metadata": {},
     "output_type": "execute_result"
    }
   ],
   "source": [
    "data.nutritions[0]"
   ]
  },
  {
   "cell_type": "markdown",
   "id": "0479ed80",
   "metadata": {},
   "source": [
    "###### so we have to convert it into a python dictionary"
   ]
  },
  {
   "cell_type": "code",
   "execution_count": 13,
   "id": "3b39e7c4",
   "metadata": {},
   "outputs": [
    {
     "data": {
      "text/plain": [
       "{'niacin': {'hasCompleteData': False,\n",
       "  'name': 'Niacin Equivalents',\n",
       "  'amount': 15.6016,\n",
       "  'percentDailyValue': '120',\n",
       "  'displayValue': '16',\n",
       "  'unit': 'mg'},\n",
       " 'sugars': {'hasCompleteData': False,\n",
       "  'name': 'Sugars',\n",
       "  'amount': 19.84146,\n",
       "  'percentDailyValue': '0',\n",
       "  'displayValue': '19.8',\n",
       "  'unit': 'g'},\n",
       " 'sodium': {'hasCompleteData': False,\n",
       "  'name': 'Sodium',\n",
       "  'amount': 2606.764,\n",
       "  'percentDailyValue': '104',\n",
       "  'displayValue': '2607',\n",
       "  'unit': 'mg'},\n",
       " 'carbohydrates': {'hasCompleteData': True,\n",
       "  'name': 'Carbohydrates',\n",
       "  'amount': 32.08176,\n",
       "  'percentDailyValue': '10',\n",
       "  'displayValue': '32.1',\n",
       "  'unit': 'g'},\n",
       " 'vitaminB6': {'hasCompleteData': False,\n",
       "  'name': 'Vitamin B6',\n",
       "  'amount': 1.328631,\n",
       "  'percentDailyValue': '83',\n",
       "  'displayValue': '1',\n",
       "  'unit': 'mg'},\n",
       " 'calories': {'hasCompleteData': True,\n",
       "  'name': 'Calories',\n",
       "  'amount': 371.7219,\n",
       "  'percentDailyValue': '19',\n",
       "  'displayValue': '372',\n",
       "  'unit': 'kcal'},\n",
       " 'thiamin': {'hasCompleteData': False,\n",
       "  'name': 'Thiamin',\n",
       "  'amount': 0.8423121,\n",
       "  'percentDailyValue': '84',\n",
       "  'displayValue': '< 1',\n",
       "  'unit': 'mg'},\n",
       " 'fat': {'hasCompleteData': True,\n",
       "  'name': 'Fat',\n",
       "  'amount': 11.67521,\n",
       "  'percentDailyValue': '18',\n",
       "  'displayValue': '11.7',\n",
       "  'unit': 'g'},\n",
       " 'folate': {'hasCompleteData': False,\n",
       "  'name': 'Folate',\n",
       "  'amount': 83.73925,\n",
       "  'percentDailyValue': '47',\n",
       "  'displayValue': '84',\n",
       "  'unit': 'mcg'},\n",
       " 'caloriesFromFat': {'hasCompleteData': True,\n",
       "  'name': 'Calories from Fat',\n",
       "  'amount': 105.0769,\n",
       "  'percentDailyValue': '-',\n",
       "  'displayValue': '105',\n",
       "  'unit': 'kcal'},\n",
       " 'calcium': {'hasCompleteData': True,\n",
       "  'name': 'Calcium',\n",
       "  'amount': 135.4538,\n",
       "  'percentDailyValue': '17',\n",
       "  'displayValue': '135',\n",
       "  'unit': 'mg'},\n",
       " 'fiber': {'hasCompleteData': False,\n",
       "  'name': 'Dietary Fiber',\n",
       "  'amount': 10.22336,\n",
       "  'percentDailyValue': '41',\n",
       "  'displayValue': '10.2',\n",
       "  'unit': 'g'},\n",
       " 'magnesium': {'hasCompleteData': False,\n",
       "  'name': 'Magnesium',\n",
       "  'amount': 80.73712,\n",
       "  'percentDailyValue': '29',\n",
       "  'displayValue': '81',\n",
       "  'unit': 'mg'},\n",
       " 'iron': {'hasCompleteData': True,\n",
       "  'name': 'Iron',\n",
       "  'amount': 6.622245,\n",
       "  'percentDailyValue': '66',\n",
       "  'displayValue': '7',\n",
       "  'unit': 'mg'},\n",
       " 'cholesterol': {'hasCompleteData': False,\n",
       "  'name': 'Cholesterol',\n",
       "  'amount': 99.2,\n",
       "  'percentDailyValue': '33',\n",
       "  'displayValue': '99',\n",
       "  'unit': 'mg'},\n",
       " 'protein': {'hasCompleteData': True,\n",
       "  'name': 'Protein',\n",
       "  'amount': 36.39878,\n",
       "  'percentDailyValue': '73',\n",
       "  'displayValue': '36.4',\n",
       "  'unit': 'g'},\n",
       " 'vitaminA': {'hasCompleteData': False,\n",
       "  'name': 'Vitamin A - IU',\n",
       "  'amount': 73.17785,\n",
       "  'percentDailyValue': '1',\n",
       "  'displayValue': '73',\n",
       "  'unit': 'IU'},\n",
       " 'potassium': {'hasCompleteData': False,\n",
       "  'name': 'Potassium',\n",
       "  'amount': 1088.923,\n",
       "  'percentDailyValue': '31',\n",
       "  'displayValue': '1089',\n",
       "  'unit': 'mg'},\n",
       " 'saturatedFat': {'hasCompleteData': False,\n",
       "  'name': 'Saturated Fat',\n",
       "  'amount': 3.646474,\n",
       "  'percentDailyValue': '18',\n",
       "  'displayValue': '3.6',\n",
       "  'unit': 'g'},\n",
       " 'vitaminC': {'hasCompleteData': False,\n",
       "  'name': 'Vitamin C',\n",
       "  'amount': 52.76848,\n",
       "  'percentDailyValue': '88',\n",
       "  'displayValue': '53',\n",
       "  'unit': 'mg'}}"
      ]
     },
     "execution_count": 13,
     "metadata": {},
     "output_type": "execute_result"
    }
   ],
   "source": [
    "list_of_dict = []\n",
    "\n",
    "for row in data.nutritions:\n",
    "    list_of_dict.append(ast.literal_eval(row))\n",
    "list_of_dict[1]"
   ]
  },
  {
   "cell_type": "markdown",
   "id": "3a635044",
   "metadata": {},
   "source": [
    "###### Now we have to extract percent daily values for some important  nutritions"
   ]
  },
  {
   "cell_type": "code",
   "execution_count": 14,
   "id": "65cf0a7a",
   "metadata": {},
   "outputs": [],
   "source": [
    "calories_list = []\n",
    "fat_list = []\n",
    "carbohydrates_list = []\n",
    "protein_list = []\n",
    "cholesterol_list = []\n",
    "sodium_list = []\n",
    "fiber_list = []"
   ]
  },
  {
   "cell_type": "markdown",
   "id": "37882eb2",
   "metadata": {},
   "source": [
    "###### Now iterate through every rows and list out the nutritions"
   ]
  },
  {
   "cell_type": "code",
   "execution_count": 15,
   "id": "91f6b6cd",
   "metadata": {},
   "outputs": [],
   "source": [
    "for x in range(len(list_of_dict)):\n",
    "    calories_list.append(list_of_dict[x]['calories']['percentDailyValue'])\n",
    "    fat_list.append(list_of_dict[x]['fat']['percentDailyValue'])\n",
    "    carbohydrates_list.append(list_of_dict[x]['carbohydrates']['percentDailyValue'])\n",
    "    protein_list.append(list_of_dict[x]['protein']['percentDailyValue'])\n",
    "    cholesterol_list.append(list_of_dict[x]['cholesterol']['percentDailyValue'])\n",
    "    sodium_list.append(list_of_dict[x]['sodium']['percentDailyValue'])\n",
    "    fiber_list.append(list_of_dict[x]['fiber']['percentDailyValue'])"
   ]
  },
  {
   "cell_type": "markdown",
   "id": "e997ce11",
   "metadata": {},
   "source": [
    "###### Now group all the data into a single dataframe"
   ]
  },
  {
   "cell_type": "code",
   "execution_count": 16,
   "id": "f5fac880",
   "metadata": {},
   "outputs": [],
   "source": [
    "nutritions_list = {'calories': calories_list, 'fat': fat_list, 'carbohydrates': carbohydrates_list, \n",
    "       'protein': protein_list, 'cholesterol': cholesterol_list, 'sodium': sodium_list, \n",
    "       'fiber': fiber_list}"
   ]
  },
  {
   "cell_type": "code",
   "execution_count": 17,
   "id": "189d7be8",
   "metadata": {},
   "outputs": [],
   "source": [
    "df=pd.DataFrame(nutritions_list)"
   ]
  },
  {
   "cell_type": "markdown",
   "id": "6145fc5e",
   "metadata": {},
   "source": [
    "###### We can make this index as the recipes index"
   ]
  },
  {
   "cell_type": "code",
   "execution_count": 18,
   "id": "74fa901b",
   "metadata": {},
   "outputs": [
    {
     "data": {
      "text/html": [
       "<div>\n",
       "<style scoped>\n",
       "    .dataframe tbody tr th:only-of-type {\n",
       "        vertical-align: middle;\n",
       "    }\n",
       "\n",
       "    .dataframe tbody tr th {\n",
       "        vertical-align: top;\n",
       "    }\n",
       "\n",
       "    .dataframe thead th {\n",
       "        text-align: right;\n",
       "    }\n",
       "</style>\n",
       "<table border=\"1\" class=\"dataframe\">\n",
       "  <thead>\n",
       "    <tr style=\"text-align: right;\">\n",
       "      <th></th>\n",
       "      <th>calories</th>\n",
       "      <th>fat</th>\n",
       "      <th>carbohydrates</th>\n",
       "      <th>protein</th>\n",
       "      <th>cholesterol</th>\n",
       "      <th>sodium</th>\n",
       "      <th>fiber</th>\n",
       "    </tr>\n",
       "    <tr>\n",
       "      <th>recipe_id</th>\n",
       "      <th></th>\n",
       "      <th></th>\n",
       "      <th></th>\n",
       "      <th></th>\n",
       "      <th></th>\n",
       "      <th></th>\n",
       "      <th></th>\n",
       "    </tr>\n",
       "  </thead>\n",
       "  <tbody>\n",
       "    <tr>\n",
       "      <th>222388</th>\n",
       "      <td>15</td>\n",
       "      <td>36</td>\n",
       "      <td>&lt; 1</td>\n",
       "      <td>42</td>\n",
       "      <td>21</td>\n",
       "      <td>81</td>\n",
       "      <td>2</td>\n",
       "    </tr>\n",
       "    <tr>\n",
       "      <th>240488</th>\n",
       "      <td>19</td>\n",
       "      <td>18</td>\n",
       "      <td>10</td>\n",
       "      <td>73</td>\n",
       "      <td>33</td>\n",
       "      <td>104</td>\n",
       "      <td>41</td>\n",
       "    </tr>\n",
       "    <tr>\n",
       "      <th>218939</th>\n",
       "      <td>17</td>\n",
       "      <td>36</td>\n",
       "      <td>2</td>\n",
       "      <td>48</td>\n",
       "      <td>24</td>\n",
       "      <td>31</td>\n",
       "      <td>4</td>\n",
       "    </tr>\n",
       "    <tr>\n",
       "      <th>87211</th>\n",
       "      <td>32</td>\n",
       "      <td>45</td>\n",
       "      <td>20</td>\n",
       "      <td>65</td>\n",
       "      <td>20</td>\n",
       "      <td>43</td>\n",
       "      <td>18</td>\n",
       "    </tr>\n",
       "    <tr>\n",
       "      <th>245714</th>\n",
       "      <td>8</td>\n",
       "      <td>12</td>\n",
       "      <td>5</td>\n",
       "      <td>14</td>\n",
       "      <td>7</td>\n",
       "      <td>8</td>\n",
       "      <td>3</td>\n",
       "    </tr>\n",
       "  </tbody>\n",
       "</table>\n",
       "</div>"
      ],
      "text/plain": [
       "          calories fat carbohydrates protein cholesterol sodium fiber\n",
       "recipe_id                                                            \n",
       "222388          15  36           < 1      42          21     81     2\n",
       "240488          19  18            10      73          33    104    41\n",
       "218939          17  36             2      48          24     31     4\n",
       "87211           32  45            20      65          20     43    18\n",
       "245714           8  12             5      14           7      8     3"
      ]
     },
     "execution_count": 18,
     "metadata": {},
     "output_type": "execute_result"
    }
   ],
   "source": [
    "df.index=data['recipe_id']\n",
    "df.head()"
   ]
  },
  {
   "cell_type": "code",
   "execution_count": 19,
   "id": "2f8ef445",
   "metadata": {},
   "outputs": [
    {
     "data": {
      "text/plain": [
       "calories         963\n",
       "fat              963\n",
       "carbohydrates    963\n",
       "protein          963\n",
       "cholesterol      963\n",
       "sodium           963\n",
       "fiber            963\n",
       "dtype: int64"
      ]
     },
     "execution_count": 19,
     "metadata": {},
     "output_type": "execute_result"
    }
   ],
   "source": [
    "df.isnull().sum()"
   ]
  },
  {
   "cell_type": "markdown",
   "id": "360ccc3c",
   "metadata": {},
   "source": [
    "###### We can see that there are some missing values in these data. which maybe the recipes which does not have these Nutritions ,so we want to drop it"
   ]
  },
  {
   "cell_type": "code",
   "execution_count": 20,
   "id": "2b6229af",
   "metadata": {},
   "outputs": [],
   "source": [
    "df=df.dropna()"
   ]
  },
  {
   "cell_type": "code",
   "execution_count": 21,
   "id": "fa4ef0a9",
   "metadata": {},
   "outputs": [
    {
     "data": {
      "text/plain": [
       "calories         0\n",
       "fat              0\n",
       "carbohydrates    0\n",
       "protein          0\n",
       "cholesterol      0\n",
       "sodium           0\n",
       "fiber            0\n",
       "dtype: int64"
      ]
     },
     "execution_count": 21,
     "metadata": {},
     "output_type": "execute_result"
    }
   ],
   "source": [
    "df.isnull().sum()"
   ]
  },
  {
   "cell_type": "markdown",
   "id": "9ac306c2",
   "metadata": {},
   "source": [
    "###### We can see that there are values which is less than 1 and it shows up as an object col\n",
    "###### Convert those into 1 and others as same\n",
    "###### For that we can create a function called text_cleaning"
   ]
  },
  {
   "cell_type": "code",
   "execution_count": 22,
   "id": "a1feac86",
   "metadata": {},
   "outputs": [],
   "source": [
    "def text_cleaning(cols):\n",
    "    if cols == '< 1':\n",
    "        return 1\n",
    "    else:\n",
    "        return cols\n",
    "\n",
    "for col in df.columns:\n",
    "    df[col] = df[col].apply(text_cleaning)"
   ]
  },
  {
   "cell_type": "code",
   "execution_count": 23,
   "id": "8f569b9d",
   "metadata": {},
   "outputs": [
    {
     "data": {
      "text/html": [
       "<div>\n",
       "<style scoped>\n",
       "    .dataframe tbody tr th:only-of-type {\n",
       "        vertical-align: middle;\n",
       "    }\n",
       "\n",
       "    .dataframe tbody tr th {\n",
       "        vertical-align: top;\n",
       "    }\n",
       "\n",
       "    .dataframe thead th {\n",
       "        text-align: right;\n",
       "    }\n",
       "</style>\n",
       "<table border=\"1\" class=\"dataframe\">\n",
       "  <thead>\n",
       "    <tr style=\"text-align: right;\">\n",
       "      <th></th>\n",
       "      <th>calories</th>\n",
       "      <th>fat</th>\n",
       "      <th>carbohydrates</th>\n",
       "      <th>protein</th>\n",
       "      <th>cholesterol</th>\n",
       "      <th>sodium</th>\n",
       "      <th>fiber</th>\n",
       "    </tr>\n",
       "    <tr>\n",
       "      <th>recipe_id</th>\n",
       "      <th></th>\n",
       "      <th></th>\n",
       "      <th></th>\n",
       "      <th></th>\n",
       "      <th></th>\n",
       "      <th></th>\n",
       "      <th></th>\n",
       "    </tr>\n",
       "  </thead>\n",
       "  <tbody>\n",
       "    <tr>\n",
       "      <th>222388</th>\n",
       "      <td>15</td>\n",
       "      <td>36</td>\n",
       "      <td>1</td>\n",
       "      <td>42</td>\n",
       "      <td>21</td>\n",
       "      <td>81</td>\n",
       "      <td>2</td>\n",
       "    </tr>\n",
       "    <tr>\n",
       "      <th>240488</th>\n",
       "      <td>19</td>\n",
       "      <td>18</td>\n",
       "      <td>10</td>\n",
       "      <td>73</td>\n",
       "      <td>33</td>\n",
       "      <td>104</td>\n",
       "      <td>41</td>\n",
       "    </tr>\n",
       "    <tr>\n",
       "      <th>218939</th>\n",
       "      <td>17</td>\n",
       "      <td>36</td>\n",
       "      <td>2</td>\n",
       "      <td>48</td>\n",
       "      <td>24</td>\n",
       "      <td>31</td>\n",
       "      <td>4</td>\n",
       "    </tr>\n",
       "    <tr>\n",
       "      <th>87211</th>\n",
       "      <td>32</td>\n",
       "      <td>45</td>\n",
       "      <td>20</td>\n",
       "      <td>65</td>\n",
       "      <td>20</td>\n",
       "      <td>43</td>\n",
       "      <td>18</td>\n",
       "    </tr>\n",
       "    <tr>\n",
       "      <th>245714</th>\n",
       "      <td>8</td>\n",
       "      <td>12</td>\n",
       "      <td>5</td>\n",
       "      <td>14</td>\n",
       "      <td>7</td>\n",
       "      <td>8</td>\n",
       "      <td>3</td>\n",
       "    </tr>\n",
       "  </tbody>\n",
       "</table>\n",
       "</div>"
      ],
      "text/plain": [
       "          calories fat carbohydrates protein cholesterol sodium fiber\n",
       "recipe_id                                                            \n",
       "222388          15  36             1      42          21     81     2\n",
       "240488          19  18            10      73          33    104    41\n",
       "218939          17  36             2      48          24     31     4\n",
       "87211           32  45            20      65          20     43    18\n",
       "245714           8  12             5      14           7      8     3"
      ]
     },
     "execution_count": 23,
     "metadata": {},
     "output_type": "execute_result"
    }
   ],
   "source": [
    "df.head()"
   ]
  },
  {
   "cell_type": "code",
   "execution_count": 24,
   "id": "65d596a6",
   "metadata": {},
   "outputs": [
    {
     "data": {
      "text/plain": [
       "calories         object\n",
       "fat              object\n",
       "carbohydrates    object\n",
       "protein          object\n",
       "cholesterol      object\n",
       "sodium           object\n",
       "fiber            object\n",
       "dtype: object"
      ]
     },
     "execution_count": 24,
     "metadata": {},
     "output_type": "execute_result"
    }
   ],
   "source": [
    "df.dtypes"
   ]
  },
  {
   "cell_type": "markdown",
   "id": "af4a500d",
   "metadata": {},
   "source": [
    "###### We can see that the datatypes of all the columns are object\n",
    "###### Convert those into numerics"
   ]
  },
  {
   "cell_type": "code",
   "execution_count": 25,
   "id": "f330dda9",
   "metadata": {},
   "outputs": [],
   "source": [
    "df=df.apply(pd.to_numeric)"
   ]
  },
  {
   "cell_type": "code",
   "execution_count": 26,
   "id": "a28422c3",
   "metadata": {},
   "outputs": [
    {
     "data": {
      "text/plain": [
       "calories         int64\n",
       "fat              int64\n",
       "carbohydrates    int64\n",
       "protein          int64\n",
       "cholesterol      int64\n",
       "sodium           int64\n",
       "fiber            int64\n",
       "dtype: object"
      ]
     },
     "execution_count": 26,
     "metadata": {},
     "output_type": "execute_result"
    }
   ],
   "source": [
    "df.dtypes"
   ]
  },
  {
   "cell_type": "markdown",
   "id": "35c4c815",
   "metadata": {},
   "source": [
    "###### Now we can Normalize all the columns"
   ]
  },
  {
   "cell_type": "code",
   "execution_count": 27,
   "id": "74dc6096",
   "metadata": {},
   "outputs": [
    {
     "data": {
      "text/html": [
       "<div>\n",
       "<style scoped>\n",
       "    .dataframe tbody tr th:only-of-type {\n",
       "        vertical-align: middle;\n",
       "    }\n",
       "\n",
       "    .dataframe tbody tr th {\n",
       "        vertical-align: top;\n",
       "    }\n",
       "\n",
       "    .dataframe thead th {\n",
       "        text-align: right;\n",
       "    }\n",
       "</style>\n",
       "<table border=\"1\" class=\"dataframe\">\n",
       "  <thead>\n",
       "    <tr style=\"text-align: right;\">\n",
       "      <th></th>\n",
       "      <th>calories</th>\n",
       "      <th>fat</th>\n",
       "      <th>carbohydrates</th>\n",
       "      <th>protein</th>\n",
       "      <th>cholesterol</th>\n",
       "      <th>sodium</th>\n",
       "      <th>fiber</th>\n",
       "    </tr>\n",
       "    <tr>\n",
       "      <th>recipe_id</th>\n",
       "      <th></th>\n",
       "      <th></th>\n",
       "      <th></th>\n",
       "      <th></th>\n",
       "      <th></th>\n",
       "      <th></th>\n",
       "      <th></th>\n",
       "    </tr>\n",
       "  </thead>\n",
       "  <tbody>\n",
       "    <tr>\n",
       "      <th>222388</th>\n",
       "      <td>0.003457</td>\n",
       "      <td>0.004775</td>\n",
       "      <td>0.000352</td>\n",
       "      <td>0.004739</td>\n",
       "      <td>0.002997</td>\n",
       "      <td>0.006572</td>\n",
       "      <td>0.000560</td>\n",
       "    </tr>\n",
       "    <tr>\n",
       "      <th>240488</th>\n",
       "      <td>0.004378</td>\n",
       "      <td>0.002387</td>\n",
       "      <td>0.003517</td>\n",
       "      <td>0.008236</td>\n",
       "      <td>0.004710</td>\n",
       "      <td>0.008438</td>\n",
       "      <td>0.011477</td>\n",
       "    </tr>\n",
       "    <tr>\n",
       "      <th>218939</th>\n",
       "      <td>0.003917</td>\n",
       "      <td>0.004775</td>\n",
       "      <td>0.000703</td>\n",
       "      <td>0.005416</td>\n",
       "      <td>0.003425</td>\n",
       "      <td>0.002515</td>\n",
       "      <td>0.001120</td>\n",
       "    </tr>\n",
       "    <tr>\n",
       "      <th>87211</th>\n",
       "      <td>0.007374</td>\n",
       "      <td>0.005969</td>\n",
       "      <td>0.007034</td>\n",
       "      <td>0.007334</td>\n",
       "      <td>0.002855</td>\n",
       "      <td>0.003489</td>\n",
       "      <td>0.005039</td>\n",
       "    </tr>\n",
       "    <tr>\n",
       "      <th>245714</th>\n",
       "      <td>0.001844</td>\n",
       "      <td>0.001592</td>\n",
       "      <td>0.001759</td>\n",
       "      <td>0.001580</td>\n",
       "      <td>0.000999</td>\n",
       "      <td>0.000649</td>\n",
       "      <td>0.000840</td>\n",
       "    </tr>\n",
       "  </tbody>\n",
       "</table>\n",
       "</div>"
      ],
      "text/plain": [
       "           calories       fat  carbohydrates   protein  cholesterol    sodium  \\\n",
       "recipe_id                                                                       \n",
       "222388     0.003457  0.004775       0.000352  0.004739     0.002997  0.006572   \n",
       "240488     0.004378  0.002387       0.003517  0.008236     0.004710  0.008438   \n",
       "218939     0.003917  0.004775       0.000703  0.005416     0.003425  0.002515   \n",
       "87211      0.007374  0.005969       0.007034  0.007334     0.002855  0.003489   \n",
       "245714     0.001844  0.001592       0.001759  0.001580     0.000999  0.000649   \n",
       "\n",
       "              fiber  \n",
       "recipe_id            \n",
       "222388     0.000560  \n",
       "240488     0.011477  \n",
       "218939     0.001120  \n",
       "87211      0.005039  \n",
       "245714     0.000840  "
      ]
     },
     "execution_count": 27,
     "metadata": {},
     "output_type": "execute_result"
    }
   ],
   "source": [
    "df_normalized = pd.DataFrame(normalize(df, axis=0))\n",
    "df_normalized.columns = df.columns\n",
    "df_normalized.index = df.index\n",
    "df_normalized.head()"
   ]
  },
  {
   "cell_type": "markdown",
   "id": "06f51c7a",
   "metadata": {},
   "source": [
    "###### Now we need to add the name of the recipe and the recipe_id "
   ]
  },
  {
   "cell_type": "code",
   "execution_count": 28,
   "id": "e7b820b2",
   "metadata": {},
   "outputs": [
    {
     "name": "stdout",
     "output_type": "stream",
     "text": [
      "Recipe ID: 87211\n",
      "Recipe Name: Chicken Pesto Paninis\n",
      "recipe_id      87211\n",
      "calories          32\n",
      "fat               45\n",
      "carbohydrates     20\n",
      "protein           65\n",
      "cholesterol       20\n",
      "sodium            43\n",
      "fiber             18\n"
     ]
    }
   ],
   "source": [
    "def selected_recipe(recipe_id):\n",
    "\n",
    "    recipe_df=data.set_index('recipe_id')\n",
    "    recipe_name=recipe_df.at[recipe_id,'recipe_name']\n",
    "    print(\"Recipe ID:\", recipe_id)\n",
    "    print(\"Recipe Name:\", recipe_name)\n",
    "    print(df.loc[df.index.isin([recipe_id])].transpose())\n",
    "selected_recipe(87211)\n",
    "    "
   ]
  },
  {
   "cell_type": "code",
   "execution_count": 29,
   "id": "77beeb78",
   "metadata": {},
   "outputs": [
    {
     "data": {
      "text/html": [
       "<div>\n",
       "<style scoped>\n",
       "    .dataframe tbody tr th:only-of-type {\n",
       "        vertical-align: middle;\n",
       "    }\n",
       "\n",
       "    .dataframe tbody tr th {\n",
       "        vertical-align: top;\n",
       "    }\n",
       "\n",
       "    .dataframe thead th {\n",
       "        text-align: right;\n",
       "    }\n",
       "</style>\n",
       "<table border=\"1\" class=\"dataframe\">\n",
       "  <thead>\n",
       "    <tr style=\"text-align: right;\">\n",
       "      <th></th>\n",
       "      <th>recipe_id</th>\n",
       "      <th>recipe_name</th>\n",
       "      <th>aver_rate</th>\n",
       "      <th>image_url</th>\n",
       "      <th>review_nums</th>\n",
       "      <th>ingredients</th>\n",
       "      <th>nutritions</th>\n",
       "      <th>calories</th>\n",
       "      <th>fat</th>\n",
       "      <th>carbohydrates</th>\n",
       "      <th>protein</th>\n",
       "      <th>cholesterol</th>\n",
       "      <th>sodium</th>\n",
       "      <th>fiber</th>\n",
       "    </tr>\n",
       "  </thead>\n",
       "  <tbody>\n",
       "    <tr>\n",
       "      <th>0</th>\n",
       "      <td>222388</td>\n",
       "      <td>Homemade Bacon</td>\n",
       "      <td>5.00</td>\n",
       "      <td>https://images.media-allrecipes.com/userphotos...</td>\n",
       "      <td>3</td>\n",
       "      <td>pork belly^smoked paprika^kosher salt^ground b...</td>\n",
       "      <td>{u'niacin': {u'hasCompleteData': False, u'name...</td>\n",
       "      <td>15</td>\n",
       "      <td>36</td>\n",
       "      <td>1</td>\n",
       "      <td>42</td>\n",
       "      <td>21</td>\n",
       "      <td>81</td>\n",
       "      <td>2</td>\n",
       "    </tr>\n",
       "    <tr>\n",
       "      <th>1</th>\n",
       "      <td>240488</td>\n",
       "      <td>Pork Loin, Apples, and Sauerkraut</td>\n",
       "      <td>4.76</td>\n",
       "      <td>https://images.media-allrecipes.com/userphotos...</td>\n",
       "      <td>29</td>\n",
       "      <td>sauerkraut drained^Granny Smith apples sliced^...</td>\n",
       "      <td>{u'niacin': {u'hasCompleteData': False, u'name...</td>\n",
       "      <td>19</td>\n",
       "      <td>18</td>\n",
       "      <td>10</td>\n",
       "      <td>73</td>\n",
       "      <td>33</td>\n",
       "      <td>104</td>\n",
       "      <td>41</td>\n",
       "    </tr>\n",
       "    <tr>\n",
       "      <th>2</th>\n",
       "      <td>218939</td>\n",
       "      <td>Foolproof Rosemary Chicken Wings</td>\n",
       "      <td>4.57</td>\n",
       "      <td>https://images.media-allrecipes.com/userphotos...</td>\n",
       "      <td>12</td>\n",
       "      <td>chicken wings^sprigs rosemary^head garlic^oliv...</td>\n",
       "      <td>{u'niacin': {u'hasCompleteData': True, u'name'...</td>\n",
       "      <td>17</td>\n",
       "      <td>36</td>\n",
       "      <td>2</td>\n",
       "      <td>48</td>\n",
       "      <td>24</td>\n",
       "      <td>31</td>\n",
       "      <td>4</td>\n",
       "    </tr>\n",
       "    <tr>\n",
       "      <th>3</th>\n",
       "      <td>87211</td>\n",
       "      <td>Chicken Pesto Paninis</td>\n",
       "      <td>4.62</td>\n",
       "      <td>https://images.media-allrecipes.com/userphotos...</td>\n",
       "      <td>163</td>\n",
       "      <td>focaccia bread quartered^prepared basil pesto^...</td>\n",
       "      <td>{u'niacin': {u'hasCompleteData': True, u'name'...</td>\n",
       "      <td>32</td>\n",
       "      <td>45</td>\n",
       "      <td>20</td>\n",
       "      <td>65</td>\n",
       "      <td>20</td>\n",
       "      <td>43</td>\n",
       "      <td>18</td>\n",
       "    </tr>\n",
       "    <tr>\n",
       "      <th>4</th>\n",
       "      <td>245714</td>\n",
       "      <td>Potato Bacon Pizza</td>\n",
       "      <td>4.50</td>\n",
       "      <td>https://images.media-allrecipes.com/userphotos...</td>\n",
       "      <td>2</td>\n",
       "      <td>red potatoes^strips bacon^Sauce:^heavy whippin...</td>\n",
       "      <td>{u'niacin': {u'hasCompleteData': True, u'name'...</td>\n",
       "      <td>8</td>\n",
       "      <td>12</td>\n",
       "      <td>5</td>\n",
       "      <td>14</td>\n",
       "      <td>7</td>\n",
       "      <td>8</td>\n",
       "      <td>3</td>\n",
       "    </tr>\n",
       "  </tbody>\n",
       "</table>\n",
       "</div>"
      ],
      "text/plain": [
       "   recipe_id                        recipe_name  aver_rate  \\\n",
       "0     222388                     Homemade Bacon       5.00   \n",
       "1     240488  Pork Loin, Apples, and Sauerkraut       4.76   \n",
       "2     218939   Foolproof Rosemary Chicken Wings       4.57   \n",
       "3      87211              Chicken Pesto Paninis       4.62   \n",
       "4     245714                 Potato Bacon Pizza       4.50   \n",
       "\n",
       "                                           image_url  review_nums  \\\n",
       "0  https://images.media-allrecipes.com/userphotos...            3   \n",
       "1  https://images.media-allrecipes.com/userphotos...           29   \n",
       "2  https://images.media-allrecipes.com/userphotos...           12   \n",
       "3  https://images.media-allrecipes.com/userphotos...          163   \n",
       "4  https://images.media-allrecipes.com/userphotos...            2   \n",
       "\n",
       "                                         ingredients  \\\n",
       "0  pork belly^smoked paprika^kosher salt^ground b...   \n",
       "1  sauerkraut drained^Granny Smith apples sliced^...   \n",
       "2  chicken wings^sprigs rosemary^head garlic^oliv...   \n",
       "3  focaccia bread quartered^prepared basil pesto^...   \n",
       "4  red potatoes^strips bacon^Sauce:^heavy whippin...   \n",
       "\n",
       "                                          nutritions  calories  fat  \\\n",
       "0  {u'niacin': {u'hasCompleteData': False, u'name...        15   36   \n",
       "1  {u'niacin': {u'hasCompleteData': False, u'name...        19   18   \n",
       "2  {u'niacin': {u'hasCompleteData': True, u'name'...        17   36   \n",
       "3  {u'niacin': {u'hasCompleteData': True, u'name'...        32   45   \n",
       "4  {u'niacin': {u'hasCompleteData': True, u'name'...         8   12   \n",
       "\n",
       "   carbohydrates  protein  cholesterol  sodium  fiber  \n",
       "0              1       42           21      81      2  \n",
       "1             10       73           33     104     41  \n",
       "2              2       48           24      31      4  \n",
       "3             20       65           20      43     18  \n",
       "4              5       14            7       8      3  "
      ]
     },
     "execution_count": 29,
     "metadata": {},
     "output_type": "execute_result"
    }
   ],
   "source": [
    "final_recipe_dataset=pd.merge(data,df,on='recipe_id')\n",
    "final_recipe_dataset.head()"
   ]
  },
  {
   "cell_type": "code",
   "execution_count": 35,
   "id": "9f015fcf",
   "metadata": {},
   "outputs": [
    {
     "data": {
      "text/plain": [
       "'chicken wings^sprigs rosemary^head garlic^olive oil^lemon pepper^seasoned salt'"
      ]
     },
     "execution_count": 35,
     "metadata": {},
     "output_type": "execute_result"
    }
   ],
   "source": [
    "final_recipe_dataset['ingredients'][2]"
   ]
  },
  {
   "cell_type": "code",
   "execution_count": 30,
   "id": "7ab83249",
   "metadata": {},
   "outputs": [
    {
     "data": {
      "text/plain": [
       "recipe_id          int64\n",
       "recipe_name       object\n",
       "aver_rate        float64\n",
       "image_url         object\n",
       "review_nums        int64\n",
       "ingredients       object\n",
       "nutritions        object\n",
       "calories           int64\n",
       "fat                int64\n",
       "carbohydrates      int64\n",
       "protein            int64\n",
       "cholesterol        int64\n",
       "sodium             int64\n",
       "fiber              int64\n",
       "dtype: object"
      ]
     },
     "execution_count": 30,
     "metadata": {},
     "output_type": "execute_result"
    }
   ],
   "source": [
    "final_recipe_dataset.dtypes"
   ]
  },
  {
   "cell_type": "markdown",
   "id": "85f516a1",
   "metadata": {},
   "source": [
    "###### The ingredients list is in an String form so we need to make it to a list"
   ]
  },
  {
   "cell_type": "code",
   "execution_count": 68,
   "id": "b6c0abe7",
   "metadata": {},
   "outputs": [
    {
     "data": {
      "text/html": [
       "<div>\n",
       "<style scoped>\n",
       "    .dataframe tbody tr th:only-of-type {\n",
       "        vertical-align: middle;\n",
       "    }\n",
       "\n",
       "    .dataframe tbody tr th {\n",
       "        vertical-align: top;\n",
       "    }\n",
       "\n",
       "    .dataframe thead th {\n",
       "        text-align: right;\n",
       "    }\n",
       "</style>\n",
       "<table border=\"1\" class=\"dataframe\">\n",
       "  <thead>\n",
       "    <tr style=\"text-align: right;\">\n",
       "      <th></th>\n",
       "      <th>ingredients_list</th>\n",
       "    </tr>\n",
       "    <tr>\n",
       "      <th>recipe_id</th>\n",
       "      <th></th>\n",
       "    </tr>\n",
       "  </thead>\n",
       "  <tbody>\n",
       "    <tr>\n",
       "      <th>222388</th>\n",
       "      <td>[pork belly, smoked paprika, kosher salt, grou...</td>\n",
       "    </tr>\n",
       "    <tr>\n",
       "      <th>240488</th>\n",
       "      <td>[sauerkraut drained, Granny Smith apples slice...</td>\n",
       "    </tr>\n",
       "    <tr>\n",
       "      <th>218939</th>\n",
       "      <td>[chicken wings, sprigs rosemary, head garlic, ...</td>\n",
       "    </tr>\n",
       "    <tr>\n",
       "      <th>87211</th>\n",
       "      <td>[focaccia bread quartered, prepared basil pest...</td>\n",
       "    </tr>\n",
       "    <tr>\n",
       "      <th>245714</th>\n",
       "      <td>[red potatoes, strips bacon, Sauce:, heavy whi...</td>\n",
       "    </tr>\n",
       "  </tbody>\n",
       "</table>\n",
       "</div>"
      ],
      "text/plain": [
       "                                            ingredients_list\n",
       "recipe_id                                                   \n",
       "222388     [pork belly, smoked paprika, kosher salt, grou...\n",
       "240488     [sauerkraut drained, Granny Smith apples slice...\n",
       "218939     [chicken wings, sprigs rosemary, head garlic, ...\n",
       "87211      [focaccia bread quartered, prepared basil pest...\n",
       "245714     [red potatoes, strips bacon, Sauce:, heavy whi..."
      ]
     },
     "execution_count": 68,
     "metadata": {},
     "output_type": "execute_result"
    }
   ],
   "source": [
    "ingredients_list = []\n",
    "\n",
    "for x in range(len(final_recipe_dataset)):\n",
    "    ingredients_list.append(final_recipe_dataset['ingredients'][x].split('^'))\n",
    "data2={'ingredients_list':ingredients_list}\n",
    "df1=pd.DataFrame(data2)\n",
    "df1.index=final_recipe_dataset['recipe_id']\n",
    "df1.head()"
   ]
  },
  {
   "cell_type": "markdown",
   "id": "d92d4c60",
   "metadata": {},
   "source": [
    "###### Now merge this to the Original dataset"
   ]
  },
  {
   "cell_type": "code",
   "execution_count": 69,
   "id": "34763e46",
   "metadata": {},
   "outputs": [
    {
     "data": {
      "text/html": [
       "<div>\n",
       "<style scoped>\n",
       "    .dataframe tbody tr th:only-of-type {\n",
       "        vertical-align: middle;\n",
       "    }\n",
       "\n",
       "    .dataframe tbody tr th {\n",
       "        vertical-align: top;\n",
       "    }\n",
       "\n",
       "    .dataframe thead th {\n",
       "        text-align: right;\n",
       "    }\n",
       "</style>\n",
       "<table border=\"1\" class=\"dataframe\">\n",
       "  <thead>\n",
       "    <tr style=\"text-align: right;\">\n",
       "      <th></th>\n",
       "      <th>recipe_id</th>\n",
       "      <th>recipe_name</th>\n",
       "      <th>aver_rate</th>\n",
       "      <th>image_url</th>\n",
       "      <th>review_nums</th>\n",
       "      <th>ingredients</th>\n",
       "      <th>nutritions</th>\n",
       "      <th>calories</th>\n",
       "      <th>fat</th>\n",
       "      <th>carbohydrates</th>\n",
       "      <th>protein</th>\n",
       "      <th>cholesterol</th>\n",
       "      <th>sodium</th>\n",
       "      <th>fiber</th>\n",
       "      <th>ingredients_list</th>\n",
       "    </tr>\n",
       "  </thead>\n",
       "  <tbody>\n",
       "    <tr>\n",
       "      <th>0</th>\n",
       "      <td>222388</td>\n",
       "      <td>Homemade Bacon</td>\n",
       "      <td>5.00</td>\n",
       "      <td>https://images.media-allrecipes.com/userphotos...</td>\n",
       "      <td>3</td>\n",
       "      <td>pork belly^smoked paprika^kosher salt^ground b...</td>\n",
       "      <td>{u'niacin': {u'hasCompleteData': False, u'name...</td>\n",
       "      <td>15</td>\n",
       "      <td>36</td>\n",
       "      <td>1</td>\n",
       "      <td>42</td>\n",
       "      <td>21</td>\n",
       "      <td>81</td>\n",
       "      <td>2</td>\n",
       "      <td>[pork belly, smoked paprika, kosher salt, grou...</td>\n",
       "    </tr>\n",
       "    <tr>\n",
       "      <th>1</th>\n",
       "      <td>240488</td>\n",
       "      <td>Pork Loin, Apples, and Sauerkraut</td>\n",
       "      <td>4.76</td>\n",
       "      <td>https://images.media-allrecipes.com/userphotos...</td>\n",
       "      <td>29</td>\n",
       "      <td>sauerkraut drained^Granny Smith apples sliced^...</td>\n",
       "      <td>{u'niacin': {u'hasCompleteData': False, u'name...</td>\n",
       "      <td>19</td>\n",
       "      <td>18</td>\n",
       "      <td>10</td>\n",
       "      <td>73</td>\n",
       "      <td>33</td>\n",
       "      <td>104</td>\n",
       "      <td>41</td>\n",
       "      <td>[sauerkraut drained, Granny Smith apples slice...</td>\n",
       "    </tr>\n",
       "    <tr>\n",
       "      <th>2</th>\n",
       "      <td>218939</td>\n",
       "      <td>Foolproof Rosemary Chicken Wings</td>\n",
       "      <td>4.57</td>\n",
       "      <td>https://images.media-allrecipes.com/userphotos...</td>\n",
       "      <td>12</td>\n",
       "      <td>chicken wings^sprigs rosemary^head garlic^oliv...</td>\n",
       "      <td>{u'niacin': {u'hasCompleteData': True, u'name'...</td>\n",
       "      <td>17</td>\n",
       "      <td>36</td>\n",
       "      <td>2</td>\n",
       "      <td>48</td>\n",
       "      <td>24</td>\n",
       "      <td>31</td>\n",
       "      <td>4</td>\n",
       "      <td>[chicken wings, sprigs rosemary, head garlic, ...</td>\n",
       "    </tr>\n",
       "    <tr>\n",
       "      <th>3</th>\n",
       "      <td>87211</td>\n",
       "      <td>Chicken Pesto Paninis</td>\n",
       "      <td>4.62</td>\n",
       "      <td>https://images.media-allrecipes.com/userphotos...</td>\n",
       "      <td>163</td>\n",
       "      <td>focaccia bread quartered^prepared basil pesto^...</td>\n",
       "      <td>{u'niacin': {u'hasCompleteData': True, u'name'...</td>\n",
       "      <td>32</td>\n",
       "      <td>45</td>\n",
       "      <td>20</td>\n",
       "      <td>65</td>\n",
       "      <td>20</td>\n",
       "      <td>43</td>\n",
       "      <td>18</td>\n",
       "      <td>[focaccia bread quartered, prepared basil pest...</td>\n",
       "    </tr>\n",
       "    <tr>\n",
       "      <th>4</th>\n",
       "      <td>245714</td>\n",
       "      <td>Potato Bacon Pizza</td>\n",
       "      <td>4.50</td>\n",
       "      <td>https://images.media-allrecipes.com/userphotos...</td>\n",
       "      <td>2</td>\n",
       "      <td>red potatoes^strips bacon^Sauce:^heavy whippin...</td>\n",
       "      <td>{u'niacin': {u'hasCompleteData': True, u'name'...</td>\n",
       "      <td>8</td>\n",
       "      <td>12</td>\n",
       "      <td>5</td>\n",
       "      <td>14</td>\n",
       "      <td>7</td>\n",
       "      <td>8</td>\n",
       "      <td>3</td>\n",
       "      <td>[red potatoes, strips bacon, Sauce:, heavy whi...</td>\n",
       "    </tr>\n",
       "  </tbody>\n",
       "</table>\n",
       "</div>"
      ],
      "text/plain": [
       "   recipe_id                        recipe_name  aver_rate  \\\n",
       "0     222388                     Homemade Bacon       5.00   \n",
       "1     240488  Pork Loin, Apples, and Sauerkraut       4.76   \n",
       "2     218939   Foolproof Rosemary Chicken Wings       4.57   \n",
       "3      87211              Chicken Pesto Paninis       4.62   \n",
       "4     245714                 Potato Bacon Pizza       4.50   \n",
       "\n",
       "                                           image_url  review_nums  \\\n",
       "0  https://images.media-allrecipes.com/userphotos...            3   \n",
       "1  https://images.media-allrecipes.com/userphotos...           29   \n",
       "2  https://images.media-allrecipes.com/userphotos...           12   \n",
       "3  https://images.media-allrecipes.com/userphotos...          163   \n",
       "4  https://images.media-allrecipes.com/userphotos...            2   \n",
       "\n",
       "                                         ingredients  \\\n",
       "0  pork belly^smoked paprika^kosher salt^ground b...   \n",
       "1  sauerkraut drained^Granny Smith apples sliced^...   \n",
       "2  chicken wings^sprigs rosemary^head garlic^oliv...   \n",
       "3  focaccia bread quartered^prepared basil pesto^...   \n",
       "4  red potatoes^strips bacon^Sauce:^heavy whippin...   \n",
       "\n",
       "                                          nutritions  calories  fat  \\\n",
       "0  {u'niacin': {u'hasCompleteData': False, u'name...        15   36   \n",
       "1  {u'niacin': {u'hasCompleteData': False, u'name...        19   18   \n",
       "2  {u'niacin': {u'hasCompleteData': True, u'name'...        17   36   \n",
       "3  {u'niacin': {u'hasCompleteData': True, u'name'...        32   45   \n",
       "4  {u'niacin': {u'hasCompleteData': True, u'name'...         8   12   \n",
       "\n",
       "   carbohydrates  protein  cholesterol  sodium  fiber  \\\n",
       "0              1       42           21      81      2   \n",
       "1             10       73           33     104     41   \n",
       "2              2       48           24      31      4   \n",
       "3             20       65           20      43     18   \n",
       "4              5       14            7       8      3   \n",
       "\n",
       "                                    ingredients_list  \n",
       "0  [pork belly, smoked paprika, kosher salt, grou...  \n",
       "1  [sauerkraut drained, Granny Smith apples slice...  \n",
       "2  [chicken wings, sprigs rosemary, head garlic, ...  \n",
       "3  [focaccia bread quartered, prepared basil pest...  \n",
       "4  [red potatoes, strips bacon, Sauce:, heavy whi...  "
      ]
     },
     "execution_count": 69,
     "metadata": {},
     "output_type": "execute_result"
    }
   ],
   "source": [
    "final_recipe_dataset=pd.merge(final_recipe_dataset,df1,on='recipe_id')\n",
    "final_recipe_dataset.head()"
   ]
  },
  {
   "cell_type": "markdown",
   "id": "ff7d06d0",
   "metadata": {},
   "source": [
    "###### Now we have the both the nutritions and ingredients_list, we can revome the parent columns that was used to derive these two things and also the image_url"
   ]
  },
  {
   "cell_type": "code",
   "execution_count": 70,
   "id": "b29dfee8",
   "metadata": {},
   "outputs": [],
   "source": [
    "final_recipe_dataset=final_recipe_dataset.drop(['ingredients','nutritions','image_url'],axis=1)"
   ]
  },
  {
   "cell_type": "code",
   "execution_count": 71,
   "id": "2fbe17a2",
   "metadata": {},
   "outputs": [
    {
     "data": {
      "text/html": [
       "<div>\n",
       "<style scoped>\n",
       "    .dataframe tbody tr th:only-of-type {\n",
       "        vertical-align: middle;\n",
       "    }\n",
       "\n",
       "    .dataframe tbody tr th {\n",
       "        vertical-align: top;\n",
       "    }\n",
       "\n",
       "    .dataframe thead th {\n",
       "        text-align: right;\n",
       "    }\n",
       "</style>\n",
       "<table border=\"1\" class=\"dataframe\">\n",
       "  <thead>\n",
       "    <tr style=\"text-align: right;\">\n",
       "      <th></th>\n",
       "      <th>recipe_id</th>\n",
       "      <th>recipe_name</th>\n",
       "      <th>aver_rate</th>\n",
       "      <th>review_nums</th>\n",
       "      <th>calories</th>\n",
       "      <th>fat</th>\n",
       "      <th>carbohydrates</th>\n",
       "      <th>protein</th>\n",
       "      <th>cholesterol</th>\n",
       "      <th>sodium</th>\n",
       "      <th>fiber</th>\n",
       "      <th>ingredients_list</th>\n",
       "    </tr>\n",
       "  </thead>\n",
       "  <tbody>\n",
       "    <tr>\n",
       "      <th>0</th>\n",
       "      <td>222388</td>\n",
       "      <td>Homemade Bacon</td>\n",
       "      <td>5.00</td>\n",
       "      <td>3</td>\n",
       "      <td>15</td>\n",
       "      <td>36</td>\n",
       "      <td>1</td>\n",
       "      <td>42</td>\n",
       "      <td>21</td>\n",
       "      <td>81</td>\n",
       "      <td>2</td>\n",
       "      <td>[pork belly, smoked paprika, kosher salt, grou...</td>\n",
       "    </tr>\n",
       "    <tr>\n",
       "      <th>1</th>\n",
       "      <td>240488</td>\n",
       "      <td>Pork Loin, Apples, and Sauerkraut</td>\n",
       "      <td>4.76</td>\n",
       "      <td>29</td>\n",
       "      <td>19</td>\n",
       "      <td>18</td>\n",
       "      <td>10</td>\n",
       "      <td>73</td>\n",
       "      <td>33</td>\n",
       "      <td>104</td>\n",
       "      <td>41</td>\n",
       "      <td>[sauerkraut drained, Granny Smith apples slice...</td>\n",
       "    </tr>\n",
       "    <tr>\n",
       "      <th>2</th>\n",
       "      <td>218939</td>\n",
       "      <td>Foolproof Rosemary Chicken Wings</td>\n",
       "      <td>4.57</td>\n",
       "      <td>12</td>\n",
       "      <td>17</td>\n",
       "      <td>36</td>\n",
       "      <td>2</td>\n",
       "      <td>48</td>\n",
       "      <td>24</td>\n",
       "      <td>31</td>\n",
       "      <td>4</td>\n",
       "      <td>[chicken wings, sprigs rosemary, head garlic, ...</td>\n",
       "    </tr>\n",
       "    <tr>\n",
       "      <th>3</th>\n",
       "      <td>87211</td>\n",
       "      <td>Chicken Pesto Paninis</td>\n",
       "      <td>4.62</td>\n",
       "      <td>163</td>\n",
       "      <td>32</td>\n",
       "      <td>45</td>\n",
       "      <td>20</td>\n",
       "      <td>65</td>\n",
       "      <td>20</td>\n",
       "      <td>43</td>\n",
       "      <td>18</td>\n",
       "      <td>[focaccia bread quartered, prepared basil pest...</td>\n",
       "    </tr>\n",
       "    <tr>\n",
       "      <th>4</th>\n",
       "      <td>245714</td>\n",
       "      <td>Potato Bacon Pizza</td>\n",
       "      <td>4.50</td>\n",
       "      <td>2</td>\n",
       "      <td>8</td>\n",
       "      <td>12</td>\n",
       "      <td>5</td>\n",
       "      <td>14</td>\n",
       "      <td>7</td>\n",
       "      <td>8</td>\n",
       "      <td>3</td>\n",
       "      <td>[red potatoes, strips bacon, Sauce:, heavy whi...</td>\n",
       "    </tr>\n",
       "  </tbody>\n",
       "</table>\n",
       "</div>"
      ],
      "text/plain": [
       "   recipe_id                        recipe_name  aver_rate  review_nums  \\\n",
       "0     222388                     Homemade Bacon       5.00            3   \n",
       "1     240488  Pork Loin, Apples, and Sauerkraut       4.76           29   \n",
       "2     218939   Foolproof Rosemary Chicken Wings       4.57           12   \n",
       "3      87211              Chicken Pesto Paninis       4.62          163   \n",
       "4     245714                 Potato Bacon Pizza       4.50            2   \n",
       "\n",
       "   calories  fat  carbohydrates  protein  cholesterol  sodium  fiber  \\\n",
       "0        15   36              1       42           21      81      2   \n",
       "1        19   18             10       73           33     104     41   \n",
       "2        17   36              2       48           24      31      4   \n",
       "3        32   45             20       65           20      43     18   \n",
       "4         8   12              5       14            7       8      3   \n",
       "\n",
       "                                    ingredients_list  \n",
       "0  [pork belly, smoked paprika, kosher salt, grou...  \n",
       "1  [sauerkraut drained, Granny Smith apples slice...  \n",
       "2  [chicken wings, sprigs rosemary, head garlic, ...  \n",
       "3  [focaccia bread quartered, prepared basil pest...  \n",
       "4  [red potatoes, strips bacon, Sauce:, heavy whi...  "
      ]
     },
     "execution_count": 71,
     "metadata": {},
     "output_type": "execute_result"
    }
   ],
   "source": [
    "final_recipe_dataset.head()"
   ]
  },
  {
   "cell_type": "code",
   "execution_count": 72,
   "id": "c92cea24",
   "metadata": {},
   "outputs": [
    {
     "data": {
      "text/plain": [
       "(48735, 12)"
      ]
     },
     "execution_count": 72,
     "metadata": {},
     "output_type": "execute_result"
    }
   ],
   "source": [
    "final_recipe_dataset.shape"
   ]
  },
  {
   "cell_type": "code",
   "execution_count": 73,
   "id": "d5adb136",
   "metadata": {},
   "outputs": [
    {
     "data": {
      "text/plain": [
       "recipe_id             int64\n",
       "recipe_name          object\n",
       "aver_rate           float64\n",
       "review_nums           int64\n",
       "calories              int64\n",
       "fat                   int64\n",
       "carbohydrates         int64\n",
       "protein               int64\n",
       "cholesterol           int64\n",
       "sodium                int64\n",
       "fiber                 int64\n",
       "ingredients_list     object\n",
       "dtype: object"
      ]
     },
     "execution_count": 73,
     "metadata": {},
     "output_type": "execute_result"
    }
   ],
   "source": [
    "final_recipe_dataset.dtypes"
   ]
  },
  {
   "cell_type": "code",
   "execution_count": null,
   "id": "72796ac5",
   "metadata": {},
   "outputs": [],
   "source": []
  }
 ],
 "metadata": {
  "kernelspec": {
   "display_name": "Python 3 (ipykernel)",
   "language": "python",
   "name": "python3"
  },
  "language_info": {
   "codemirror_mode": {
    "name": "ipython",
    "version": 3
   },
   "file_extension": ".py",
   "mimetype": "text/x-python",
   "name": "python",
   "nbconvert_exporter": "python",
   "pygments_lexer": "ipython3",
   "version": "3.11.5"
  }
 },
 "nbformat": 4,
 "nbformat_minor": 5
}
